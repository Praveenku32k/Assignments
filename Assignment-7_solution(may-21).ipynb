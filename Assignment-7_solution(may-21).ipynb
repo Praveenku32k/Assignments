{
 "cells": [
  {
   "cell_type": "raw",
   "id": "b5df7f08",
   "metadata": {},
   "source": [
    "                                 21 May\n",
    "                             Python Basic - 2\n",
    "Q.1. Create two int type variables, apply addition, subtraction, division and multiplications\n",
    "and store the results in variables. Then print the data in the following format by calling the\n",
    "variables:\n",
    "First variable is __ & second variable is __.\n",
    "Addition: __ + __ = __\n",
    "Subtraction: __ - __ = __\n",
    "Multiplication: __ * __ = __\n",
    "Division: __ / __ = __\n",
    "\n",
    "Q.2. What is the difference between the following operators:\n",
    "(i) ‘/’ & ‘//’\n",
    "(ii) ‘**’ & ‘^’\n",
    "Q.3. List the logical operators.\n",
    "Q.4. Explain right shift operator and left shift operator with examples.\n",
    "Q.5. Create a list containing int type data of length 15. Then write a code to check if 10 is\n",
    "present in the list or not."
   ]
  },
  {
   "cell_type": "markdown",
   "id": "f7f74f15",
   "metadata": {},
   "source": [
    "# Q.1. Create two int type variables, apply addition, subtraction, division and multiplications\n",
    "and store the results in variables. Then print the data in the following format by calling the\n",
    "variables:\n",
    "First variable is __ & second variable is __.\n",
    "Addition: __ + __ = __\n",
    "Subtraction: __ - __ = __\n",
    "Multiplication: __ * __ = __\n",
    "Division: __ / __ = __"
   ]
  },
  {
   "cell_type": "code",
   "execution_count": 1,
   "id": "40eba4a9",
   "metadata": {},
   "outputs": [
    {
     "name": "stdout",
     "output_type": "stream",
     "text": [
      "First variable is 10 & second variable is 5.\n",
      "Addition: 10 + 5 = 15\n",
      "Subtraction: 10 - 5 = 5\n",
      "Multiplication: 10 * 5 = 50\n",
      "Division: 10 / 5 = 2.0\n"
     ]
    }
   ],
   "source": [
    "# Create two integer variables\n",
    "num1 = 10\n",
    "num2 = 5\n",
    "\n",
    "# Perform arithmetic operations and store results in variables\n",
    "addition_result = num1 + num2\n",
    "subtraction_result = num1 - num2\n",
    "multiplication_result = num1 * num2\n",
    "division_result = num1 / num2\n",
    "\n",
    "# Print the results in the specified format\n",
    "print(f\"First variable is {num1} & second variable is {num2}.\")\n",
    "print(f\"Addition: {num1} + {num2} = {addition_result}\")\n",
    "print(f\"Subtraction: {num1} - {num2} = {subtraction_result}\")\n",
    "print(f\"Multiplication: {num1} * {num2} = {multiplication_result}\")\n",
    "print(f\"Division: {num1} / {num2} = {division_result}\")\n"
   ]
  },
  {
   "cell_type": "markdown",
   "id": "ff54212b",
   "metadata": {},
   "source": [
    "# Q.2. What is the difference between the following operators:\n",
    "(i) ‘/’ & ‘//’\n",
    "(ii) ‘**’ & ‘^’"
   ]
  },
  {
   "cell_type": "code",
   "execution_count": 2,
   "id": "286eaad0",
   "metadata": {},
   "outputs": [],
   "source": [
    "a = 2\n",
    "b = 3\n",
    "\n",
    "result_exponent = a ** b  # 2 ** 3 = 8\n",
    "result_xor = a ^ b        # 2 XOR 3 = 1\n"
   ]
  },
  {
   "cell_type": "markdown",
   "id": "af844df1",
   "metadata": {},
   "source": [
    "# Q.3. List the logical operators."
   ]
  },
  {
   "cell_type": "markdown",
   "id": "35533e33",
   "metadata": {},
   "source": [
    "The logical operators in Python are:\n",
    "\n",
    "and: Returns True if both operands are True.\n",
    "or: Returns True if at least one operand is True.\n",
    "not: Returns the opposite Boolean value of the operand. If the operand is True, not makes it False, and vice versa.\n"
   ]
  },
  {
   "cell_type": "markdown",
   "id": "b2712716",
   "metadata": {},
   "source": [
    "# Q.4. Explain right shift operator and left shift operator with examples."
   ]
  },
  {
   "cell_type": "code",
   "execution_count": 3,
   "id": "5f14ec17",
   "metadata": {},
   "outputs": [
    {
     "name": "stdout",
     "output_type": "stream",
     "text": [
      "4\n"
     ]
    }
   ],
   "source": [
    "num = 16  # Binary: 10000\n",
    "\n",
    "result = num >> 2  # Shift right by 2 positions\n",
    "print(result)\n"
   ]
  },
  {
   "cell_type": "markdown",
   "id": "f8ebd84d",
   "metadata": {},
   "source": [
    "# Q.5. Create a list containing int type data of length 15. Then write a code to check if 10 is\n",
    "present in the list or not."
   ]
  },
  {
   "cell_type": "code",
   "execution_count": 4,
   "id": "3b508775",
   "metadata": {},
   "outputs": [
    {
     "name": "stdout",
     "output_type": "stream",
     "text": [
      "10 is present in the list.\n"
     ]
    }
   ],
   "source": [
    "# Create a list of integers\n",
    "my_list = [5, 8, 10, 15, 20, 25, 30, 35, 40, 45, 50, 55, 60, 65, 70]\n",
    "\n",
    "# Check if 10 is present in the list\n",
    "if 10 in my_list:\n",
    "    print(\"10 is present in the list.\")\n",
    "else:\n",
    "    print(\"10 is not present in the list.\")"
   ]
  },
  {
   "cell_type": "code",
   "execution_count": null,
   "id": "ac14d935",
   "metadata": {},
   "outputs": [],
   "source": []
  }
 ],
 "metadata": {
  "kernelspec": {
   "display_name": "Python 3 (ipykernel)",
   "language": "python",
   "name": "python3"
  },
  "language_info": {
   "codemirror_mode": {
    "name": "ipython",
    "version": 3
   },
   "file_extension": ".py",
   "mimetype": "text/x-python",
   "name": "python",
   "nbconvert_exporter": "python",
   "pygments_lexer": "ipython3",
   "version": "3.10.9"
  }
 },
 "nbformat": 4,
 "nbformat_minor": 5
}
