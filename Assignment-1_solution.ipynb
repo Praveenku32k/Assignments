{
 "cells": [
  {
   "cell_type": "markdown",
   "id": "0c82a6c2",
   "metadata": {},
   "source": [
    "1. In the below elements which of them are values or an expression? eg:- values can be integer or string and expressions will be mathematical operators.\n",
    "* \n",
    "'hello'\n",
    "-87.8\n",
    "- \n",
    "/ \n",
    "+\t\n",
    "6 \n",
    "\n",
    "2. What is the difference between string and variable?\n",
    "\n",
    "3. Describe three different data types.\n",
    "\n",
    "4. What is an expression made up of? What do all expressions do?\n",
    "5. This assignment statements, like spam = 10. What is the difference between an expression and a statement?\n",
    "6. After running the following code, what does the variable bacon contain?\n",
    "bacon = 22\n",
    "bacon + 1\n",
    "\n",
    "7. What should the values of the following two terms be?\n",
    "'spam' + 'spamspam'\n",
    "'spam' * 3\n",
    "\n",
    "8. Why is eggs a valid variable name while 100 is invalid?\n",
    "9. What three functions can be used to get the integer, floating-point number, or string version of a value?\n",
    "10. Why does this expression cause an error? How can you fix it?\n",
    "'I have eaten ' + 99 + ' burritos.'\n",
    "\n",
    "\n"
   ]
  },
  {
   "cell_type": "markdown",
   "id": "df1647d3",
   "metadata": {},
   "source": [
    "# 1 .In the below elements which of them are values or an expression? eg:- values can be integer or string and expressions will be mathematical operators.\n",
    "'hello'\n",
    "87.8\n",
    "/\n",
    "6"
   ]
  },
  {
   "cell_type": "raw",
   "id": "9148210b",
   "metadata": {},
   "source": [
    "Answer :\n",
    "'hello'--> string\n",
    "87.8-> interger(floating value)\n",
    "/---> Mathematical operator\n",
    "6  --> Integer"
   ]
  },
  {
   "cell_type": "markdown",
   "id": "cf98a055",
   "metadata": {},
   "source": [
    "# 2. What is the difference between string and variable?"
   ]
  },
  {
   "cell_type": "code",
   "execution_count": null,
   "id": "764a1d3d",
   "metadata": {},
   "outputs": [],
   "source": [
    "\n",
    "answer:\n",
    "    String: string is sequence of character enclosed within single ,double or tirple quotes.\n",
    "        eg:'Pravee'- single line string\n",
    "        \"Pravee_kumar\" -double quotes \n",
    "            \"\"\"\n",
    "            doc sting--multi line string\n",
    "            \"\"\"\n",
    "        \n",
    "    variable:A python variable is a symbolic name that is a reference or pointer to an object\n",
    "        eg:\n",
    "            a=10, Here we are storing , 10 in variable a.\n",
    "            \n",
    "             "
   ]
  },
  {
   "cell_type": "markdown",
   "id": "b8b739e2",
   "metadata": {},
   "source": [
    "# 3.Describe three different data types"
   ]
  },
  {
   "cell_type": "code",
   "execution_count": null,
   "id": "5c5eacde",
   "metadata": {},
   "outputs": [],
   "source": [
    "\n",
    "Answer:\n",
    "     Three different data types:\n",
    "            1. INT--> We are using int data type to represent whole numbers(Integer values)\n",
    "            2.FLOAT-->We are using float data type to represent floating values\n",
    "            3.STRING-->string is sequence of character enclosed within single ,double or tirple quotes.\n"
   ]
  },
  {
   "cell_type": "markdown",
   "id": "b74b51a9",
   "metadata": {},
   "source": [
    "# 4.What is an expression made up of? What do all expressions do?"
   ]
  },
  {
   "cell_type": "code",
   "execution_count": null,
   "id": "b2e0d99e",
   "metadata": {},
   "outputs": [],
   "source": [
    "\n",
    "\n",
    "Answer:\n",
    "    \n",
    "An expression is a combination of symbols, variables, constants, and operators that represents a value or a computation in programming or mathematics.\n",
    "It can be as simple as a single variable or constant, or it can involve complex combinations of these elements.\n",
    "\n",
    "The components of an expression can include:\n",
    "\n",
    "Variables: Symbols that represent values that can change. They can be assigned different values and are used to store data.\n",
    "Constants: Fixed values that do not change during the execution of a program or calculation. For example, the number 5 or the string \"Hello.\"\n",
    "Operators: Symbols that perform specific operations on one or more operands to produce a result. Examples include arithmetic operators (+, -, *, /), logical operators (&&, ||),\n",
    "and comparison operators (==, >, <)."
   ]
  },
  {
   "cell_type": "markdown",
   "id": "f05c0f08",
   "metadata": {},
   "source": [
    "# 5. This assignment statements, like spam = 10. What is the difference between an expression and a statement?"
   ]
  },
  {
   "cell_type": "code",
   "execution_count": null,
   "id": "61a33605",
   "metadata": {},
   "outputs": [],
   "source": [
    "\n",
    "Answer:\n",
    "In the case of the assignment statement \"spam = 10,\" it is a statement because it assigns the value 10 to the variable \"spam.\"\n",
    "Expression: An expression is a combination of symbols, variables, constants, and operators that computes a value.\n",
    "Statement: A statement, on the other hand, is a complete instruction or action that performs a specific task within a program.\n"
   ]
  },
  {
   "cell_type": "markdown",
   "id": "ebeefc77",
   "metadata": {},
   "source": [
    "# 6.After running the following code, what does the variable bacon contain? bacon = 22 bacon + 1"
   ]
  },
  {
   "cell_type": "code",
   "execution_count": 2,
   "id": "3e300665",
   "metadata": {},
   "outputs": [
    {
     "ename": "SyntaxError",
     "evalue": "invalid syntax (2474661892.py, line 1)",
     "output_type": "error",
     "traceback": [
      "\u001b[1;36m  Input \u001b[1;32mIn [2]\u001b[1;36m\u001b[0m\n\u001b[1;33m    bacon = 22 bacon + 1\u001b[0m\n\u001b[1;37m               ^\u001b[0m\n\u001b[1;31mSyntaxError\u001b[0m\u001b[1;31m:\u001b[0m invalid syntax\n"
     ]
    }
   ],
   "source": [
    "bacon = 22 bacon + 1   # here we are geting syntax error  becasue string and interger can't  be add , it must be same name ."
   ]
  },
  {
   "cell_type": "markdown",
   "id": "9a33bdb8",
   "metadata": {},
   "source": [
    "# 7.What should the values of the following two terms be? 'spam' + 'spamspam' 'spam' * 3"
   ]
  },
  {
   "cell_type": "code",
   "execution_count": 3,
   "id": "349a5f61",
   "metadata": {},
   "outputs": [
    {
     "data": {
      "text/plain": [
       "'spamspamspam'"
      ]
     },
     "execution_count": 3,
     "metadata": {},
     "output_type": "execute_result"
    }
   ],
   "source": [
    "'spam' + 'spamspam' # It will get added because of same type. "
   ]
  },
  {
   "cell_type": "code",
   "execution_count": 4,
   "id": "e7648540",
   "metadata": {},
   "outputs": [
    {
     "data": {
      "text/plain": [
       "'spamspamspam'"
      ]
     },
     "execution_count": 4,
     "metadata": {},
     "output_type": "execute_result"
    }
   ],
   "source": [
    "'spam' * 3# Here we will get 3 times spam , for multiplying with string one should be string and other must be int type."
   ]
  },
  {
   "cell_type": "markdown",
   "id": "41e0f136",
   "metadata": {},
   "source": [
    "# 8. Why is eggs a valid variable name while 100 is invalid?"
   ]
  },
  {
   "cell_type": "raw",
   "id": "91979e26",
   "metadata": {},
   "source": [
    "ans:\n",
    "    eggs is valid because , varibale can start with A-Z,a-z BUT it should not start with number \n",
    "    100 is invalid beasue valribale shild not start with number."
   ]
  },
  {
   "cell_type": "markdown",
   "id": "fe3d744d",
   "metadata": {},
   "source": [
    "# 9.What three functions can be used to get the integer, floating-point number, or string version of a value?\n",
    "\n"
   ]
  },
  {
   "cell_type": "code",
   "execution_count": 5,
   "id": "a028ca28",
   "metadata": {},
   "outputs": [],
   "source": [
    "# answer\n",
    "x = int(5.6)\n",
    "y = float(10)\n",
    "z = str(3.14159)"
   ]
  },
  {
   "cell_type": "code",
   "execution_count": 6,
   "id": "badb379c",
   "metadata": {},
   "outputs": [
    {
     "name": "stdout",
     "output_type": "stream",
     "text": [
      "5\n",
      "10.0\n",
      "3.14159\n"
     ]
    }
   ],
   "source": [
    "print(x)\n",
    "print(y)\n",
    "print(z)"
   ]
  },
  {
   "cell_type": "markdown",
   "id": "ee7138ec",
   "metadata": {},
   "source": [
    "# 10.Why does this expression cause an error? How can you fix it? 'I have eaten ' + 99 + ' burritos.'"
   ]
  },
  {
   "cell_type": "code",
   "execution_count": 7,
   "id": "29948640",
   "metadata": {},
   "outputs": [
    {
     "data": {
      "text/plain": [
       "'I have eaten 99 burritos.'"
      ]
     },
     "execution_count": 7,
     "metadata": {},
     "output_type": "execute_result"
    }
   ],
   "source": [
    "#'I have eaten ' + 99 + ' burritos.'\n",
    "# error is to get add , all must be string type only.\n",
    "'I have eaten ' + '99' + ' burritos.' # I have correct the error."
   ]
  },
  {
   "cell_type": "code",
   "execution_count": null,
   "id": "8dc200bd",
   "metadata": {},
   "outputs": [],
   "source": []
  }
 ],
 "metadata": {
  "kernelspec": {
   "display_name": "Python 3 (ipykernel)",
   "language": "python",
   "name": "python3"
  },
  "language_info": {
   "codemirror_mode": {
    "name": "ipython",
    "version": 3
   },
   "file_extension": ".py",
   "mimetype": "text/x-python",
   "name": "python",
   "nbconvert_exporter": "python",
   "pygments_lexer": "ipython3",
   "version": "3.9.12"
  }
 },
 "nbformat": 4,
 "nbformat_minor": 5
}
