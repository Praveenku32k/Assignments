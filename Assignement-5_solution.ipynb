{
 "cells": [
  {
   "cell_type": "raw",
   "id": "be44c4d8",
   "metadata": {},
   "source": [
    "1. What does an empty dictionary's code look like?\n",
    "2. What is the value of a dictionary value with the key 'foo' and the value 42?\n",
    "3. What is the most significant distinction between a dictionary and a list?\n",
    "4. What happens if you try to access spam['foo'] if spam is {'bar': 100}?\n",
    "5. If a dictionary is stored in spam, what is the difference between the expressions 'cat' in spam and 'cat' in spam.keys()?\n",
    "6. If a dictionary is stored in spam, what is the difference between the expressions 'cat' in spam and 'cat' in spam.values()?\n",
    "7. What is a shortcut for the following code?\n",
    "if 'color' not in spam:\n",
    "spam['color'] = 'black'\n",
    "\n",
    "8. How do you \"pretty print\" dictionary values using which module and function?\n",
    "\n"
   ]
  },
  {
   "cell_type": "markdown",
   "id": "2f3a19fd",
   "metadata": {},
   "source": [
    "# 1. What does an empty dictionary's code look like?"
   ]
  },
  {
   "cell_type": "code",
   "execution_count": 2,
   "id": "b34209ef",
   "metadata": {},
   "outputs": [],
   "source": [
    "empty_dict = {}"
   ]
  },
  {
   "cell_type": "markdown",
   "id": "409decb6",
   "metadata": {},
   "source": [
    "# 2. What is the value of a dictionary value with the key 'foo' and the value 42?"
   ]
  },
  {
   "cell_type": "code",
   "execution_count": 3,
   "id": "535e2855",
   "metadata": {},
   "outputs": [],
   "source": [
    "my_dict = {'foo': 42}"
   ]
  },
  {
   "cell_type": "markdown",
   "id": "ed7ec101",
   "metadata": {},
   "source": [
    "# 3. What is the most significant distinction between a dictionary and a list?"
   ]
  },
  {
   "cell_type": "markdown",
   "id": "fed580f9",
   "metadata": {},
   "source": [
    "The most significant distinction between a dictionary and a list in Python lies in how they store and organize data:\n",
    "\n",
    "Key-Value vs. Indexed Values:\n",
    "\n",
    "Dictionary: A dictionary is an unordered collection that stores data in key-value pairs. Each key in a dictionary is unique, and it maps to a specific value. This makes it efficient to look up values based on their associated keys.\n",
    "List: A list is an ordered collection that stores data in a linear sequence. Each item in a list is assigned an index based on its position in the list. Lists are good for maintaining a sequence of values.\n",
    "Accessing Elements:\n",
    "\n",
    "Dictionary: Elements in a dictionary are accessed using their keys. You use the key to look up the corresponding value. Dictionary lookups are fast and constant time on average, even for large dictionaries.\n",
    "List: Elements in a list are accessed using their index. You use the index to access the value at a specific position in the list. List indexing takes linear time, so accessing elements becomes slower as the list grows.\n",
    "Ordering:\n",
    "\n",
    "Dictionary: Dictionaries are unordered collections in terms of element placement. The order of elements is not guaranteed to be the same as they were inserted.\n",
    "List: Lists are ordered collections, so the order of elements is maintained as they were added.\n",
    "Mutability:\n",
    "\n",
    "Dictionary: Dictionaries are mutable, meaning you can add, update, or remove key-value pairs after the dictionary is created.\n",
    "List: Lists are also mutable. You can modify, add, or remove elements in a list.\n",
    "Use Cases:\n",
    "\n",
    "Dictionary: Dictionaries are often used when you have data that you want to associate with specific labels or keys. They're great for scenarios where you need to quickly access values based on meaningful identifiers.\n",
    "List: Lists are commonly used when you need to maintain a collection of items in a specific order and access them sequentially.\n",
    "In summary, dictionaries are best suited for situations where you need to associate values with unique keys, while lists are more appropriate when you need to maintain a sequence of values in a specific order. The choice between using a dictionary or a list depends on the nature of your data and how you plan to access and manipula"
   ]
  },
  {
   "cell_type": "markdown",
   "id": "b536674a",
   "metadata": {},
   "source": [
    "# 4. What happens if you try to access spam['foo'] if spam is {'bar': 100}?"
   ]
  },
  {
   "cell_type": "markdown",
   "id": "f175faaa",
   "metadata": {},
   "source": [
    "spam = {'bar': 100}\n",
    "value = spam['foo']\n",
    "\n",
    "\n",
    "if 'foo' in spam:\n",
    "    value = spam['foo']\n",
    "else:\n",
    "    value = None "
   ]
  },
  {
   "cell_type": "markdown",
   "id": "3bdb6d29",
   "metadata": {},
   "source": [
    "# 5. If a dictionary is stored in spam, what is the difference between the expressions 'cat' in spam and 'cat' in spam.keys()?"
   ]
  },
  {
   "cell_type": "markdown",
   "id": "dac1dfac",
   "metadata": {},
   "source": [
    "The expressions 'cat' in spam and 'cat' in spam.keys() both check if the key 'cat' exists in the dictionary stored in spam. The first is more concise, while the second explicitly checks within the dictionary's keys. The results are the same for most cases."
   ]
  },
  {
   "cell_type": "markdown",
   "id": "ddd3cc21",
   "metadata": {},
   "source": [
    "# 6. If a dictionary is stored in spam, what is the difference between the expressions 'cat' in spam and 'cat' in spam.values()?"
   ]
  },
  {
   "cell_type": "code",
   "execution_count": null,
   "id": "147d67f4",
   "metadata": {},
   "outputs": [],
   "source": []
  },
  {
   "cell_type": "markdown",
   "id": "c43d6ceb",
   "metadata": {},
   "source": [
    "# 7. What is a shortcut for the following code?\n",
    "if 'color' not in spam:\n",
    "spam['color'] = 'black'\n"
   ]
  },
  {
   "cell_type": "code",
   "execution_count": null,
   "id": "3533e8fd",
   "metadata": {},
   "outputs": [],
   "source": []
  },
  {
   "cell_type": "markdown",
   "id": "dda3191d",
   "metadata": {},
   "source": [
    "# 8. How do you \"pretty print\" dictionary values using which module and function?"
   ]
  },
  {
   "cell_type": "code",
   "execution_count": null,
   "id": "e7dfdc53",
   "metadata": {},
   "outputs": [],
   "source": []
  }
 ],
 "metadata": {
  "kernelspec": {
   "display_name": "Python 3 (ipykernel)",
   "language": "python",
   "name": "python3"
  },
  "language_info": {
   "codemirror_mode": {
    "name": "ipython",
    "version": 3
   },
   "file_extension": ".py",
   "mimetype": "text/x-python",
   "name": "python",
   "nbconvert_exporter": "python",
   "pygments_lexer": "ipython3",
   "version": "3.10.9"
  }
 },
 "nbformat": 4,
 "nbformat_minor": 5
}
