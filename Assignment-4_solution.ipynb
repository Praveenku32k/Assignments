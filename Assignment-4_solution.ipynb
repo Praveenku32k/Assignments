{
 "cells": [
  {
   "cell_type": "raw",
   "id": "301436c4",
   "metadata": {},
   "source": [
    "1. What exactly is []?\n",
    "2. In a list of values stored in a variable called spam, how would you assign the value 'hello' as the third value? (Assume [2, 4, 6, 8, 10] are in spam.)\n",
    "Let's pretend the spam includes the list ['a', 'b', 'c', 'd'] for the next three queries.\n",
    "3. What is the value of spam[int(int('3' * 2) / 11)]?\n",
    "4. What is the value of spam[-1]?\n",
    "5. What is the value of spam[:2]?\n",
    "Let's pretend bacon has the list [3.14, 'cat,' 11, 'cat,' True] for the next three questions.\n",
    "6. What is the value of bacon.index('cat')?\n",
    "7. How does bacon.append(99) change the look of the list value in bacon?\n",
    "8. How does bacon.remove('cat') change the look of the list in bacon?\n",
    "9. What are the list concatenation and list replication operators?\n",
    "10. What is difference between the list methods append() and insert()?\n",
    "11. What are the two methods for removing items from a list?\n",
    "12. Describe how list values and string values are identical.\n",
    "13. What's the difference between tuples and lists?\n",
    "14. How do you type a tuple value that only contains the integer 42?\n",
    "15. How do you get a list value's tuple form? How do you get a tuple value's list form?\n",
    "16. Variables that \"contain\" list values are not necessarily lists themselves. Instead, what do they contain?\n",
    "17. How do you distinguish between copy.copy() and copy.deepcopy()?\n",
    "\n"
   ]
  },
  {
   "cell_type": "markdown",
   "id": "796ea983",
   "metadata": {},
   "source": [
    "# 1.What exactly is []?"
   ]
  },
  {
   "cell_type": "markdown",
   "id": "165bce2b",
   "metadata": {},
   "source": [
    "The symbol \"[]\" in programming languages often represents an empty list, array, or collection. It depends on the context of the programming language you are using.\n",
    "\n"
   ]
  },
  {
   "cell_type": "markdown",
   "id": "7a4f2b57",
   "metadata": {},
   "source": [
    "# 2. In a list of values stored in a variable called spam, how would you assign the value 'hello' as the third value? (Assume [2, 4, 6, 8, 10] are in spam.)\n",
    "Let's pretend the spam includes the list ['a', 'b', 'c', 'd'] for the next three queries."
   ]
  },
  {
   "cell_type": "code",
   "execution_count": 1,
   "id": "a2e8c60f",
   "metadata": {},
   "outputs": [],
   "source": [
    "spam = [2, 4, 6, 8, 10]\n",
    "spam[2] = 'hello'\n",
    "\n",
    "spam[1] = 'e'\n",
    "spam[3] = 'f'\n",
    "spam.append('x')"
   ]
  },
  {
   "cell_type": "markdown",
   "id": "6974018a",
   "metadata": {},
   "source": [
    "# 3. What is the value of spam[int(int('3' * 2) / 11)]?\n",
    "\n"
   ]
  },
  {
   "cell_type": "markdown",
   "id": "a5210de1",
   "metadata": {},
   "source": [
    "Let's break down the expression step by step:\n",
    "\n",
    "'3' * 2 evaluates to the string '33'.\n",
    "\n",
    "int('33') converts the string '33' to an integer, which is 33.\n",
    "\n",
    "int('33') / 11 performs integer division, resulting in the value 3.\n",
    "\n",
    "Finally, spam[3] accesses the fourth element of the list stored in the variable spam.\n",
    "\n",
    "Given the list ['a', 'e', 'c', 'f', 'x'] as described in a previous query, the fourth element at index 3 is 'f'.\n",
    "\n",
    "So, the value of spam[int(int('3' * 2) / 11)] would be 'f'."
   ]
  },
  {
   "cell_type": "markdown",
   "id": "4362c71f",
   "metadata": {},
   "source": [
    "# 4. What is the value of spam[-1]?"
   ]
  },
  {
   "cell_type": "markdown",
   "id": "2ab250eb",
   "metadata": {},
   "source": [
    "In Python and many other programming languages, negative indexing is used to access elements from the end of a list or array. Index -1 refers to the last element, -2 refers to the second-to-last element, and so on.\n",
    "\n",
    "Given the list ['a', 'e', 'c', 'f', 'x'] as described in a previous query, the value of spam[-1] would be 'x', which is the last element in the list."
   ]
  },
  {
   "cell_type": "markdown",
   "id": "3b113506",
   "metadata": {},
   "source": [
    "# 5. What is the value of spam[:2]?\n",
    "Let's pretend bacon has the list [3.14, 'cat,' 11, 'cat,' True] for the next three questions."
   ]
  },
  {
   "cell_type": "markdown",
   "id": "2caad1c2",
   "metadata": {},
   "source": [
    "Given the list ['a', 'e', 'c', 'f', 'x'] as described earlier, spam[:2] would result in a new list ['a', 'e'], containing the elements at index 0 and 1.\n",
    "\n",
    "Now, moving on to your next query about the list bacon:\n",
    "\n",
    "What is the value of bacon[1]?\n",
    "Given the list [3.14, 'cat', 11, 'cat', True], bacon[1] would be 'cat', which is the element at index 1.\n",
    "\n",
    "What is the value of bacon[2:4]?\n",
    "This would create a new list containing elements from index 2 up to (but not including) index 4. So, bacon[2:4] would result in the list [11, 'cat'].\n",
    "\n",
    "What is the value of bacon[-1]?\n",
    "Since negative indexing refers to elements from the end of the list, bacon[-1] would be True, which is the last element in the list.\n"
   ]
  },
  {
   "cell_type": "markdown",
   "id": "91c4fefb",
   "metadata": {},
   "source": [
    "# 6. What is the value of bacon.index('cat')?"
   ]
  },
  {
   "cell_type": "markdown",
   "id": "313550a9",
   "metadata": {},
   "source": [
    "The index() method in Python is used to find the index of the first occurrence of a given element in a list. In the list bacon = [3.14, 'cat', 11, 'cat', True], the string 'cat' appears at index 1 and index 3. However, the index() method returns the index of the first occurrence.\n",
    "\n",
    "So, the value of bacon.index('cat') would be 1, as it returns the index of the first occurrence of 'cat' in the list."
   ]
  },
  {
   "cell_type": "markdown",
   "id": "0c7d0996",
   "metadata": {},
   "source": [
    "# 7. How does bacon.append(99) change the look of the list value in bacon?"
   ]
  },
  {
   "cell_type": "markdown",
   "id": "491b7b18",
   "metadata": {},
   "source": [
    "[3.14, 'cat', 11, 'cat', True, 99]\n",
    "After calling bacon.append(99), the value 99 has been added as the last element in the list bacon."
   ]
  },
  {
   "cell_type": "markdown",
   "id": "02658802",
   "metadata": {},
   "source": [
    "# 8. How does bacon.remove('cat') change the look of the list in bacon?"
   ]
  },
  {
   "cell_type": "markdown",
   "id": "18617ede",
   "metadata": {},
   "source": [
    "The remove() method in Python is used to remove the first occurrence of a specified value from a list. When you call bacon.remove('cat') on the list bacon = [3.14, 'cat', 11, 'cat', True, 99], it will remove the first occurrence of the string 'cat' from the list. After the removal, the resulting list would be:\n",
    "[3.14, 11, 'cat', True, 99]\n",
    "Notice that only the first occurrence of 'cat' is removed, so the second occurrence of 'cat' remains in the list. The elements after the removed 'cat' are shifted to fill the gap, maintaining the order of the remaining elements.\n",
    "\n"
   ]
  },
  {
   "cell_type": "markdown",
   "id": "c9d0196b",
   "metadata": {},
   "source": [
    "# 9. What are the list concatenation and list replication operators?"
   ]
  },
  {
   "cell_type": "code",
   "execution_count": 3,
   "id": "487cd131",
   "metadata": {},
   "outputs": [
    {
     "name": "stdout",
     "output_type": "stream",
     "text": [
      "[1, 2, 3, 4, 5, 6]\n",
      "[0, 1, 0, 1, 0, 1]\n"
     ]
    }
   ],
   "source": [
    "list1 = [1, 2, 3]\n",
    "list2 = [4, 5, 6]\n",
    "concatenated_list = list1 + list2\n",
    "print(concatenated_list)\n",
    "\n",
    "\n",
    "original_list = [0, 1]\n",
    "replicated_list = original_list * 3\n",
    "print(replicated_list)"
   ]
  },
  {
   "cell_type": "markdown",
   "id": "30efff2f",
   "metadata": {},
   "source": [
    "# 10. What is difference between the list methods append() and insert()?"
   ]
  },
  {
   "cell_type": "markdown",
   "id": "a02f6a18",
   "metadata": {},
   "source": [
    "append is used to add the elements to last.\n",
    "insert is used to add the elements at specific position."
   ]
  },
  {
   "cell_type": "markdown",
   "id": "438894a6",
   "metadata": {},
   "source": [
    "# 11. What are the two methods for removing items from a list?"
   ]
  },
  {
   "cell_type": "code",
   "execution_count": null,
   "id": "dbba719c",
   "metadata": {},
   "outputs": [],
   "source": [
    "pop\n",
    "remove"
   ]
  },
  {
   "cell_type": "markdown",
   "id": "da0beb9d",
   "metadata": {},
   "source": [
    "# 12. Describe how list values and string values are identical."
   ]
  },
  {
   "cell_type": "markdown",
   "id": "46971e39",
   "metadata": {},
   "source": [
    "List values and string values are both examples of sequences in Python, which means they share some common characteristics despite being different data types. Here are some similarities between list values and string values:\n",
    "\n",
    "Indexing and Slicing:\n",
    "Both lists and strings can be accessed using indexing and slicing. Indexing allows you to access individual elements or characters by their position within the sequence, and slicing allows you to extract a portion of the sequence.\n",
    "\n",
    "Iterability:\n",
    "Both lists and strings can be iterated over using loops. You can use constructs like for loops to iterate through each element or character in the sequence.\n",
    "\n",
    "Length:\n",
    "Both lists and strings have a length, which is the number of elements or characters they contain. You can obtain the length using the len() function.\n",
    "\n",
    "Concatenation:\n",
    "Both lists and strings can be concatenated using the + operator. For lists, concatenation combines the elements of two or more lists into a single list. For strings, concatenation combines the characters of two or more strings.\n",
    "\n",
    "Repetition:\n",
    "Both lists and strings support repetition using the * operator. You can create a new sequence that consists of multiple copies of the original sequence.\n",
    "\n",
    "In Operator:\n",
    "Both lists and strings support the in operator, which allows you to check if a certain value or character is present in the sequence.\n",
    "\n",
    "Immutability and Mutability:\n",
    "While strings are immutable (their characters cannot be changed once created), lists are mutable (their elements can be modified after creation). This is a significant difference between the two.\n",
    "\n",
    "Despite these similarities, it's important to note that there are also key differences between lists and strings due to their distinct data types and properties. For example, lists can store a variety of different data types, while strings store sequences of characters. Lists have methods like append() and remove() for manipulation, whereas strings have methods like upper() and `lower\n"
   ]
  },
  {
   "cell_type": "markdown",
   "id": "a717e8a7",
   "metadata": {},
   "source": [
    "# 13. What's the difference between tuples and lists?"
   ]
  },
  {
   "cell_type": "code",
   "execution_count": null,
   "id": "2e7a20cc",
   "metadata": {},
   "outputs": [],
   "source": [
    "list are mutable and list are immutable.\n",
    "duplicate value are allow in list . \n",
    "duplicate are not allowed in tuplist.\n",
    "indexing and slicing are allowed in list ."
   ]
  },
  {
   "cell_type": "markdown",
   "id": "721a39b5",
   "metadata": {},
   "source": [
    "# 14. How do you type a tuple value that only contains the integer 42?"
   ]
  },
  {
   "cell_type": "code",
   "execution_count": 4,
   "id": "e9069eb7",
   "metadata": {},
   "outputs": [],
   "source": [
    "my_tuple = (42,)"
   ]
  },
  {
   "cell_type": "markdown",
   "id": "e124414d",
   "metadata": {},
   "source": [
    "# 15. How do you get a list value's tuple form? How do you get a tuple value's list form?"
   ]
  },
  {
   "cell_type": "code",
   "execution_count": 5,
   "id": "b400f97b",
   "metadata": {},
   "outputs": [
    {
     "name": "stdout",
     "output_type": "stream",
     "text": [
      "(1, 2, 3, 4, 5)\n",
      "[6, 7, 8, 9, 10]\n"
     ]
    }
   ],
   "source": [
    "# convert list to tuple\n",
    "my_list = [1, 2, 3, 4, 5]\n",
    "my_tuple = tuple(my_list)\n",
    "print(my_tuple)\n",
    "\n",
    "# convert tuple to list\n",
    "my_tuple = (6, 7, 8, 9, 10)\n",
    "my_list = list(my_tuple)\n",
    "print(my_list)"
   ]
  },
  {
   "cell_type": "markdown",
   "id": "7ab90870",
   "metadata": {},
   "source": [
    "# 16. Variables that \"contain\" list values are not necessarily lists themselves. Instead, what do they contain?"
   ]
  },
  {
   "cell_type": "code",
   "execution_count": 6,
   "id": "28570137",
   "metadata": {},
   "outputs": [
    {
     "name": "stdout",
     "output_type": "stream",
     "text": [
      "[1, 2, 3, 4]\n"
     ]
    }
   ],
   "source": [
    "original_list = [1, 2, 3]\n",
    "new_list = original_list\n",
    "new_list.append(4)\n",
    "print(original_list)"
   ]
  },
  {
   "cell_type": "markdown",
   "id": "106bf376",
   "metadata": {},
   "source": [
    "# 17. How do you distinguish between copy.copy() and copy.deepcopy()?"
   ]
  },
  {
   "cell_type": "code",
   "execution_count": null,
   "id": "349c1102",
   "metadata": {},
   "outputs": [],
   "source": [
    "import copy\n",
    "\n",
    "original_list = [1, [2, 3]]\n",
    "shallow_copied_list = copy.copy(original_list)\n",
    "\n",
    "shallow_copied_list[1][0] = 99\n",
    "\n",
    "print(original_list)  # Output: [1, [99, 3]]\n",
    "print(shallow_copied_list)  # Output: [1, [99, 3]]\n",
    "copy.deepcopy():\n",
    "The copy.deepcopy() function creates a deep copy of an object. A deep copy creates a new object and recursively copies all the nested objects within the original object. This means that changes to the nested objects in the copied object will not affect the original object, and vice versa.\n",
    "Here's an example with lists:\n",
    "\n",
    "\n",
    "\n",
    "original_list = [1, [2, 3]]\n",
    "deep_copied_list = copy.deepcopy(original_list)\n",
    "\n",
    "deep_copied_list[1][0] = 99\n",
    "\n",
    "print(original_list)  # Output: [1, [2, 3]]\n",
    "print(deep_copied_list)  # Output: [1, [99, 3]]\n",
    "In summary:\n",
    "\n",
    "copy.copy() creates a new object that is a shallow copy of the original object.\n",
    "copy.deepcopy() creates a new object that is a deep copy of the original object, including all nested objects.\n",
    "Choose between copy() and deepcopy() based on the level of copying you require for your use case. If you need a completely independent copy, even for nested objects, use `deepcopy()\n",
    "\n",
    "\n"
   ]
  }
 ],
 "metadata": {
  "kernelspec": {
   "display_name": "Python 3 (ipykernel)",
   "language": "python",
   "name": "python3"
  },
  "language_info": {
   "codemirror_mode": {
    "name": "ipython",
    "version": 3
   },
   "file_extension": ".py",
   "mimetype": "text/x-python",
   "name": "python",
   "nbconvert_exporter": "python",
   "pygments_lexer": "ipython3",
   "version": "3.10.9"
  }
 },
 "nbformat": 4,
 "nbformat_minor": 5
}
