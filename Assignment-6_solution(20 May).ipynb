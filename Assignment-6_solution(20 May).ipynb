{
 "cells": [
  {
   "cell_type": "raw",
   "id": "7771dfa5",
   "metadata": {},
   "source": [
    "                     20 May\n",
    "Python Basic - 1\n",
    "Q.1. What are keywords in python? Using the keyword library, print all the python keywords.\n",
    "Q.2. What are the rules to create variables in python?\n",
    "Q.3. What are the standards and conventions followed for the nomenclature of variables in\n",
    "python to improve code readability and maintainability?\n",
    "Q.4. What will happen if a keyword is used as a variable name?\n",
    "Q.5. For what purpose def keyword is used?\n",
    "Q.6. What is the operation of this special character ‘\\’?\n",
    "Q.7. Give an example of the following conditions:\n",
    "(i) Homogeneous list\n",
    "(ii) Heterogeneous set\n",
    "(iii) Homogeneous tuple\n",
    "Q.8. Explain the mutable and immutable data types with proper explanation & examples.\n",
    "Q.9. Write a code to create the given structure using only for loop.\n",
    "*\n",
    "***\n",
    "*****\n",
    "*******\n",
    "*********\n",
    "Q.10. Write a code to create the given structure using while loop.\n",
    "|||||||||\n",
    "|||||||\n",
    "|||||\n",
    "|||\n",
    "|"
   ]
  },
  {
   "cell_type": "markdown",
   "id": "a3718a24",
   "metadata": {},
   "source": [
    "# Q.1. What are keywords in python? Using the keyword library, print all the python keywords."
   ]
  },
  {
   "cell_type": "markdown",
   "id": "7d3f702c",
   "metadata": {},
   "source": [
    "Keywords in Python are reserved words that have predefined meanings and cannot be used as identifiers (variable names, function names, etc.) for any other purpose. \n",
    "import keyword\n",
    "\n",
    "all_keywords = keyword.kwlist\n",
    "print(all_keywords"
   ]
  },
  {
   "cell_type": "code",
   "execution_count": 3,
   "id": "fe790938",
   "metadata": {},
   "outputs": [
    {
     "name": "stdout",
     "output_type": "stream",
     "text": [
      "['False', 'None', 'True', 'and', 'as', 'assert', 'async', 'await', 'break', 'class', 'continue', 'def', 'del', 'elif', 'else', 'except', 'finally', 'for', 'from', 'global', 'if', 'import', 'in', 'is', 'lambda', 'nonlocal', 'not', 'or', 'pass', 'raise', 'return', 'try', 'while', 'with', 'yield']\n"
     ]
    }
   ],
   "source": [
    "import keyword\n",
    "\n",
    "all_keywords = keyword.kwlist\n",
    "print(all_keywords)"
   ]
  },
  {
   "cell_type": "markdown",
   "id": "089de152",
   "metadata": {},
   "source": [
    "# Q.2. What are the rules to create variables in python?"
   ]
  },
  {
   "cell_type": "markdown",
   "id": "7abd66ee",
   "metadata": {},
   "source": [
    "In Python, variables are used to store and manipulate data. Here are the rules for creating variables in Python:\n",
    "\n",
    "Variable Names:\n",
    "\n",
    "Variable names must start with a letter (a-z, A-Z) or an underscore (_).\n",
    "After the initial letter, variable names can contain letters, digits (0-9), and underscores.\n",
    "Variable names are case-sensitive, meaning myVar and myvar would be treated as different variables.\n",
    "Naming Conventions:\n",
    "\n",
    "Use descriptive names that convey the purpose of the variable.\n",
    "Variable names should be lowercase, with words separated by underscores (snake_case) for readability. For example: user_name, total_amount.\n",
    "Avoid using single-character names (except for counters or iterators) or names that are too generic (e.g., x, data).\n",
    "Reserved Keywords:\n",
    "\n",
    "Avoid using Python's reserved keywords as variable names. These are words that have special meanings in the language and cannot be used for other purposes.\n",
    "PEP 8 Style Guide:\n",
    "\n",
    "Adhering to the PEP 8 style guide helps maintain consistent and readable code. It provides guidelines for variable naming, indentation, and other coding conventions.\n",
    "Numbers at the Start:\n",
    "\n",
    "Variable names cannot start with a number. For example, 123var is not a valid variable name.\n",
    "No Spaces or Special Characters:\n",
    "\n",
    "Variable names cannot contain spaces or most special characters, except for underscores. For example, my var and total$ are not valid variable names.\n",
    "Remember that creating meaningful and clear variable names contributes to the readability and maintainability of your code."
   ]
  },
  {
   "cell_type": "markdown",
   "id": "4739b080",
   "metadata": {},
   "source": [
    "# Q.3. What are the standards and conventions followed for the nomenclature of variables in python to improve code readability and maintainability?\n"
   ]
  },
  {
   "cell_type": "markdown",
   "id": "17c7569d",
   "metadata": {},
   "source": [
    "# Descriptive and Clear Names:\n",
    "Opt for variable names that clearly describe their purpose and role in the code. Lengthier but more descriptive names are preferred over cryptic or overly short ones.\n",
    "\n",
    "Use Lowercase with Underscores (snake_case):\n",
    "Choose variable names in lowercase letters with words separated by underscores. This formatting enhances readability and distinguishes variables from classes that utilize CamelCase.\n",
    "\n",
    "Avoid Single-Character Names (Except for Counters):\n",
    "Generally, refrain from using single-letter variable names except for common loop counters like i, j, and k, particularly within concise loop contexts.\n",
    "\n",
    "Maintain Consistency:\n",
    "Ensure a uniform naming style throughout your codebase to prevent confusion. If you adopt a specific naming pattern, stick to it consistently.\n",
    "\n",
    "Use Descriptive and Contextual Names:\n",
    "Select variable names that provide context and convey meaning. Favor total_amount over val, and user_name over data.\n",
    "\n",
    "Avoid Reserved Keywords:\n",
    "Steer clear of employing Python's reserved keywords as variable names.\n",
    "\n",
    "Indicate Private Variables:\n",
    "Prefix a single underscore (_) to variables intended for internal module or class use, discouraging external access (e.g., _private_var).\n",
    "\n",
    "Constants in Uppercase:\n",
    "Uppercase letters with underscores (e.g., MAX_VALUE, PI) denote constants, variables that don't change during program execution.\n",
    "\n",
    "CamelCase for Class Names:\n",
    "When naming classes, use CamelCase, capitalizing the initial letter of each word (e.g\n",
    "\n",
    "\n"
   ]
  },
  {
   "cell_type": "markdown",
   "id": "db07fcb5",
   "metadata": {},
   "source": [
    "# Q.4. What will happen if a keyword is used as a variable name?"
   ]
  },
  {
   "cell_type": "markdown",
   "id": "0722eea4",
   "metadata": {},
   "source": [
    "Using a keyword as a variable name in Python will result in a syntax error. Keywords are reserved words that have predefined meanings in the language and cannot be repurposed for other uses. Attempting to use a keyword as a variable name disrupts the language's expected syntax, leading to an error during code execution. To avoid this, it's crucial to adhere to naming conventions and choose variable names that are not part of Python's reserved keyword list. This ensures your code's correctness and readability, preventing unintended conflicts with the language's built-in functionality."
   ]
  },
  {
   "cell_type": "markdown",
   "id": "811a0fd1",
   "metadata": {},
   "source": [
    "# Q.5. For what purpose def keyword is used?"
   ]
  },
  {
   "cell_type": "markdown",
   "id": "f7a2c259",
   "metadata": {},
   "source": [
    "# def is reserve word .\n",
    "def function_name(parameters):\n",
    "    # Function code here\n",
    "    # ..."
   ]
  },
  {
   "cell_type": "markdown",
   "id": "133db33c",
   "metadata": {},
   "source": [
    "# Q.6. What is the operation of this special character ‘\\’?"
   ]
  },
  {
   "cell_type": "markdown",
   "id": "d58f6c7d",
   "metadata": {},
   "source": [
    "The special character '\\' is called the backslash or escape character in Python. It serves several purposes:\n",
    "\n",
    "Escape Sequences: The backslash is used to create escape sequences that have special meanings within strings. For example:\n",
    "\n",
    "'\\n' represents a newline character.\n",
    "'\\t' represents a tab character.\n",
    "'\\\\' represents a literal backslash character.\n",
    "\\\" and \\' represent double and single quotes within strings, respectively."
   ]
  },
  {
   "cell_type": "markdown",
   "id": "4bf9561f",
   "metadata": {},
   "source": [
    "# Q.7. Give an example of the following conditions:\n",
    "(i) Homogeneous list\n",
    "(ii) Heterogeneous set\n",
    "(iii) Homogeneous tuple"
   ]
  },
  {
   "cell_type": "markdown",
   "id": "a05929c7",
   "metadata": {},
   "source": [
    "(i) Homogeneous List:\n",
    "A homogeneous list contains elements of the same data type. For example:\n",
    "\n",
    "python\n",
    "Copy code\n",
    "numbers = [10, 20, 30, 40, 50]\n",
    "In this list, all elements are integers, making it homogeneous.\n",
    "\n",
    "(ii) Heterogeneous Set:\n",
    "A heterogeneous set contains elements of different data types. For example:\n",
    "\n",
    "python\n",
    "Copy code\n",
    "mixed_set = {1, 'apple', 3.14, (1, 2, 3)}\n",
    "This set includes an integer, a string, a float, and a tuple, making it heterogeneous.\n",
    "\n",
    "(iii) Homogeneous Tuple:\n",
    "A homogeneous tuple contains elements of the same data type. For example:\n",
    "\n",
    "python\n",
    "Copy code\n",
    "grades = ('A', 'B', 'C', 'D')\n",
    "All elements in this tuple are strings, making it homogeneous.\n"
   ]
  },
  {
   "cell_type": "markdown",
   "id": "a405f7d9",
   "metadata": {},
   "source": [
    "# Q.8. Explain the mutable and immutable data types with proper explanation & examples."
   ]
  },
  {
   "cell_type": "markdown",
   "id": "ef3dd860",
   "metadata": {},
   "source": [
    "Mutable Data Types:\n",
    "\n",
    "Can be changed after creation.\n",
    "Modifications don't change the object's identity.\n",
    "Examples: Lists, dictionaries, sets.\n",
    "Supports in-place modifications.\n",
    "More memory efficient for large datasets when modifying frequently.\n",
    "Immutable Data Types:\n",
    "\n",
    "Cannot be changed after creation.\n",
    "Modifications create new objects.\n",
    "Examples: Integers, strings, tuples, frozensets.\n",
    "Guarantees data consistency.\n",
    "Reliable for dictionary keys due to unchanging identity.\n",
    "Safer in multithreaded or concurrent programming.\n",
    "Memory overhead for frequently modified data.\n"
   ]
  },
  {
   "cell_type": "markdown",
   "id": "0380878d",
   "metadata": {},
   "source": [
    "# Q.9. Write a code to create the given structure using only for loop.\n",
    "*\n",
    "***\n",
    "*****\n",
    "*******\n",
    "*********\n"
   ]
  },
  {
   "cell_type": "code",
   "execution_count": 2,
   "id": "f0b4f151",
   "metadata": {},
   "outputs": [
    {
     "name": "stdout",
     "output_type": "stream",
     "text": [
      "*\n",
      "***\n",
      "*****\n",
      "*******\n",
      "*********\n"
     ]
    }
   ],
   "source": [
    "for i in range(1, 6):\n",
    "    print('*' * (2*i - 1))"
   ]
  },
  {
   "cell_type": "markdown",
   "id": "d60d0aef",
   "metadata": {},
   "source": [
    "# Q.10. Write a code to create the given structure using while loop.\n",
    "|||||||||\n",
    "|||||||\n",
    "|||||\n",
    "|||\n",
    "|"
   ]
  },
  {
   "cell_type": "code",
   "execution_count": 1,
   "id": "8afe0c9d",
   "metadata": {},
   "outputs": [
    {
     "name": "stdout",
     "output_type": "stream",
     "text": [
      "|||||||\n",
      "|||||\n",
      "|||\n",
      "|\n",
      "\n",
      "\n"
     ]
    }
   ],
   "source": [
    "rows = 5\n",
    "stars = 7\n",
    "\n",
    "while rows >= 0:\n",
    "    print('|' * stars)\n",
    "    rows -= 1\n",
    "    stars -= 2"
   ]
  },
  {
   "cell_type": "code",
   "execution_count": null,
   "id": "b179b9d0",
   "metadata": {},
   "outputs": [],
   "source": []
  }
 ],
 "metadata": {
  "kernelspec": {
   "display_name": "Python 3 (ipykernel)",
   "language": "python",
   "name": "python3"
  },
  "language_info": {
   "codemirror_mode": {
    "name": "ipython",
    "version": 3
   },
   "file_extension": ".py",
   "mimetype": "text/x-python",
   "name": "python",
   "nbconvert_exporter": "python",
   "pygments_lexer": "ipython3",
   "version": "3.10.9"
  }
 },
 "nbformat": 4,
 "nbformat_minor": 5
}
