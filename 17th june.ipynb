{
 "cells": [
  {
   "cell_type": "markdown",
   "id": "088db241",
   "metadata": {},
   "source": [
    "1. What is the role of try and exception block?\n",
    "2. What is the syntax for a basic try-except block?\n",
    "3. What happens if an exception occurs inside a try block and there is no matching\n",
    "except block?\n",
    "4. What is the difference between using a bare except block and specifying a specific\n",
    "exception type?\n",
    "5. Can you have nested try-except blocks in Python? If yes, then give an example.\n",
    "6. Can we use multiple exception blocks, if yes then give an example.\n",
    "7. Write the reason due to which following errors are raised:\n",
    "a. EOFError\n",
    "b. FloatingPointError\n",
    "c. IndexError\n",
    "d. MemoryError\n",
    "e. OverflowError\n",
    "f. TabError\n",
    "g. ValueError\n",
    "8. Write code for the following given scenario and add try-exception block to it.\n",
    "a. Program to divide two numbers\n",
    "b. Program to convert a string to an integer\n",
    "c. Program to access an element in a list\n",
    "d. Program to handle a specific exception\n",
    "e. Program to handle any exception"
   ]
  },
  {
   "cell_type": "markdown",
   "id": "23b17502",
   "metadata": {},
   "source": [
    "# 1. What is the role of try and exception block?"
   ]
  },
  {
   "cell_type": "markdown",
   "id": "691be008",
   "metadata": {},
   "source": [
    "try Block: The code that might raise an exception is placed inside the try block. It defines the region of code where an exception could potentially occur.\n",
    "\n",
    "except Block: The except block contains the code that is executed when an exception is raised within the corresponding try block. "
   ]
  },
  {
   "cell_type": "markdown",
   "id": "8e84eab4",
   "metadata": {},
   "source": [
    "# 2. What is the syntax for a basic try-except block?\n"
   ]
  },
  {
   "cell_type": "code",
   "execution_count": 9,
   "id": "214562af",
   "metadata": {},
   "outputs": [
    {
     "name": "stdout",
     "output_type": "stream",
     "text": [
      "Enter a number: 7\n",
      "Result: 1.4285714285714286\n"
     ]
    }
   ],
   "source": [
    "try:\n",
    "    num = int(input(\"Enter a number: \"))\n",
    "    result = 10 / num\n",
    "    print(\"Result:\", result)\n",
    "except ZeroDivisionError:\n",
    "    print(\"Cannot divide by zero.\")\n"
   ]
  },
  {
   "cell_type": "markdown",
   "id": "5cc4effe",
   "metadata": {},
   "source": [
    "# 3. What happens if an exception occurs inside a try block and there is no matching except block?"
   ]
  },
  {
   "cell_type": "code",
   "execution_count": null,
   "id": "de72e4e2",
   "metadata": {},
   "outputs": [],
   "source": []
  },
  {
   "cell_type": "markdown",
   "id": "e15cb4e2",
   "metadata": {},
   "source": [
    "# 4. What is the difference between using a bare except block and specifying a specific\n",
    "exception type?\n"
   ]
  },
  {
   "cell_type": "markdown",
   "id": "517f209c",
   "metadata": {},
   "source": [
    "try:\n",
    "    # Some code that might raise a specific exception\n",
    "except ZeroDivisionError:\n",
    "    # Code to handle ZeroDivisionError\n",
    "except ValueError:\n",
    "    # Code to handle ValueError\n",
    "except Exception as e:\n",
    "    # Code to handle other exceptions\n"
   ]
  },
  {
   "cell_type": "markdown",
   "id": "991600a3",
   "metadata": {},
   "source": [
    "# 5. Can you have nested try-except blocks in Python? If yes, then give an example.\n"
   ]
  },
  {
   "cell_type": "code",
   "execution_count": 7,
   "id": "4f5d6315",
   "metadata": {},
   "outputs": [
    {
     "name": "stdout",
     "output_type": "stream",
     "text": [
      "Enter a number: 8\n",
      "Result: 1.25\n"
     ]
    }
   ],
   "source": [
    "try:\n",
    "    num = int(input(\"Enter a number: \"))\n",
    "    try:\n",
    "        result = 10 / num\n",
    "        print(\"Result:\", result)\n",
    "    except ZeroDivisionError:\n",
    "        print(\"Inner Block: Cannot divide by zero.\")\n",
    "except ValueError:\n",
    "    print(\"Outer Block: Invalid input. Please enter a valid number.\")\n",
    "except Exception as e:\n",
    "    print(\"Outer Block: An error occurred:\", e)\n"
   ]
  },
  {
   "cell_type": "markdown",
   "id": "bcb61c54",
   "metadata": {},
   "source": [
    "# 6. Can we use multiple exception blocks, if yes then give an example.\n"
   ]
  },
  {
   "cell_type": "code",
   "execution_count": 6,
   "id": "5e0dd3ab",
   "metadata": {},
   "outputs": [
    {
     "name": "stdout",
     "output_type": "stream",
     "text": [
      "Enter a number: 4\n",
      "Result: 2.5\n"
     ]
    }
   ],
   "source": [
    "try:\n",
    "    num = int(input(\"Enter a number: \"))\n",
    "    result = 10 / num\n",
    "    print(\"Result:\", result)\n",
    "except ValueError:\n",
    "    print(\"Invalid input. Please enter a valid number.\")\n",
    "except ZeroDivisionError:\n",
    "    print(\"Cannot divide by zero.\")\n",
    "except Exception as e:\n",
    "    print(\"An error occurred:\", e)\n"
   ]
  },
  {
   "cell_type": "markdown",
   "id": "bc92a3dd",
   "metadata": {},
   "source": [
    "# 7. Write the reason due to which following errors are raised:\n",
    "a. EOFError\n",
    "b. FloatingPointError\n",
    "c. IndexError\n",
    "d. MemoryError\n",
    "e. OverflowError\n",
    "f. TabError\n",
    "g. ValueError\n"
   ]
  },
  {
   "cell_type": "markdown",
   "id": "bd9938e0",
   "metadata": {},
   "source": [
    "Here are the reasons for the following error types:\n",
    "\n",
    "a. EOFError: Raised when there's an attempt to read beyond the end of a file.\n",
    "\n",
    "b. FloatingPointError: Raised when a floating-point operation fails to produce a valid result, typically due to issues like division by zero or other mathematical errors.\n",
    "\n",
    "c. IndexError: Raised when trying to access an index that is out of range for a list, tuple, or other sequence.\n",
    "\n",
    "d. MemoryError: Raised when an operation cannot be completed due to a lack of memory.\n",
    "\n",
    "e. OverflowError: Raised when an arithmetic operation exceeds the limits of its data type, resulting in overflow.\n",
    "\n",
    "f. TabError: Raised when there are inconsistent or incorrect uses of tabs and spaces in Python code, especially in cases where indentation levels should match.\n",
    "\n",
    "g. ValueError: Raised when a function receives an argument of the correct data type but with an inappropriate value. It can also occur when converting a value to a specific data type fails.\n",
    "\n",
    "These error types provide specific information about what went wrong in your code, helping you identify and address issues more effec"
   ]
  },
  {
   "cell_type": "markdown",
   "id": "f68e83b3",
   "metadata": {},
   "source": [
    "# 8. Write code for the following given scenario and add try-exception block to it.\n",
    "a. Program to divide two numbers\n",
    "b. Program to convert a string to an integer\n",
    "c. Program to access an element in a list\n",
    "d. Program to handle a specific exception\n",
    "e. Program to handle any exception"
   ]
  },
  {
   "cell_type": "code",
   "execution_count": 1,
   "id": "0206d8f2",
   "metadata": {},
   "outputs": [
    {
     "name": "stdout",
     "output_type": "stream",
     "text": [
      "Division by zero is not allowed.\n"
     ]
    }
   ],
   "source": [
    "def divide_numbers(a, b):\n",
    "    try:\n",
    "        result = a / b\n",
    "        return result\n",
    "    except ZeroDivisionError:\n",
    "        return \"Division by zero is not allowed.\"\n",
    "\n",
    "num1 = 10\n",
    "num2 = 0\n",
    "print(divide_numbers(num1, num2))  # Output: Division by zero is not allowed.\n"
   ]
  },
  {
   "cell_type": "code",
   "execution_count": 2,
   "id": "807618b4",
   "metadata": {},
   "outputs": [
    {
     "name": "stdout",
     "output_type": "stream",
     "text": [
      "123\n"
     ]
    }
   ],
   "source": [
    "def convert_to_integer(s):\n",
    "    try:\n",
    "        result = int(s)\n",
    "        return result\n",
    "    except ValueError:\n",
    "        return \"Invalid input. Cannot convert to integer.\"\n",
    "\n",
    "string = \"123\"\n",
    "print(convert_to_integer(string))  # Output: 123\n"
   ]
  },
  {
   "cell_type": "code",
   "execution_count": 3,
   "id": "90f24e54",
   "metadata": {},
   "outputs": [
    {
     "name": "stdout",
     "output_type": "stream",
     "text": [
      "Index out of range.\n"
     ]
    }
   ],
   "source": [
    "def access_list_element(lst, index):\n",
    "    try:\n",
    "        result = lst[index]\n",
    "        return result\n",
    "    except IndexError:\n",
    "        return \"Index out of range.\"\n",
    "\n",
    "my_list = [1, 2, 3, 4, 5]\n",
    "index = 10\n",
    "print(access_list_element(my_list, index))  # Output: Index out of range.\n"
   ]
  },
  {
   "cell_type": "code",
   "execution_count": 4,
   "id": "4272bae1",
   "metadata": {},
   "outputs": [
    {
     "name": "stdout",
     "output_type": "stream",
     "text": [
      "Cannot divide by zero.\n"
     ]
    }
   ],
   "source": [
    "try:\n",
    "    x = 10 / 0\n",
    "except ZeroDivisionError:\n",
    "    print(\"Cannot divide by zero.\")\n"
   ]
  },
  {
   "cell_type": "code",
   "execution_count": 5,
   "id": "2077695d",
   "metadata": {},
   "outputs": [
    {
     "name": "stdout",
     "output_type": "stream",
     "text": [
      "An error occurred: division by zero\n"
     ]
    }
   ],
   "source": [
    "try:\n",
    "    y = 10 / 0\n",
    "except Exception as e:\n",
    "    print(\"An error occurred:\", e)\n"
   ]
  },
  {
   "cell_type": "code",
   "execution_count": null,
   "id": "54f259e3",
   "metadata": {},
   "outputs": [],
   "source": []
  },
  {
   "cell_type": "code",
   "execution_count": null,
   "id": "c848c2f7",
   "metadata": {},
   "outputs": [],
   "source": []
  },
  {
   "cell_type": "code",
   "execution_count": null,
   "id": "8bb0397e",
   "metadata": {},
   "outputs": [],
   "source": []
  },
  {
   "cell_type": "code",
   "execution_count": null,
   "id": "3c2db1d3",
   "metadata": {},
   "outputs": [],
   "source": []
  },
  {
   "cell_type": "code",
   "execution_count": null,
   "id": "3e6a6bba",
   "metadata": {},
   "outputs": [],
   "source": []
  },
  {
   "cell_type": "code",
   "execution_count": null,
   "id": "2093ffa3",
   "metadata": {},
   "outputs": [],
   "source": []
  },
  {
   "cell_type": "code",
   "execution_count": null,
   "id": "efe494ff",
   "metadata": {},
   "outputs": [],
   "source": []
  },
  {
   "cell_type": "code",
   "execution_count": null,
   "id": "d7045a33",
   "metadata": {},
   "outputs": [],
   "source": []
  },
  {
   "cell_type": "code",
   "execution_count": null,
   "id": "65a3665e",
   "metadata": {},
   "outputs": [],
   "source": []
  },
  {
   "cell_type": "code",
   "execution_count": null,
   "id": "5dcc9a6b",
   "metadata": {},
   "outputs": [],
   "source": []
  },
  {
   "cell_type": "code",
   "execution_count": null,
   "id": "9b5f9657",
   "metadata": {},
   "outputs": [],
   "source": []
  },
  {
   "cell_type": "code",
   "execution_count": null,
   "id": "c2d5fa98",
   "metadata": {},
   "outputs": [],
   "source": []
  },
  {
   "cell_type": "code",
   "execution_count": null,
   "id": "795064d8",
   "metadata": {},
   "outputs": [],
   "source": []
  },
  {
   "cell_type": "code",
   "execution_count": null,
   "id": "7d77eabe",
   "metadata": {},
   "outputs": [],
   "source": []
  },
  {
   "cell_type": "code",
   "execution_count": null,
   "id": "03a66bd2",
   "metadata": {},
   "outputs": [],
   "source": []
  },
  {
   "cell_type": "code",
   "execution_count": null,
   "id": "7ec8d23f",
   "metadata": {},
   "outputs": [],
   "source": []
  },
  {
   "cell_type": "code",
   "execution_count": null,
   "id": "5d40e9d4",
   "metadata": {},
   "outputs": [],
   "source": []
  },
  {
   "cell_type": "code",
   "execution_count": null,
   "id": "e7d977e1",
   "metadata": {},
   "outputs": [],
   "source": []
  },
  {
   "cell_type": "code",
   "execution_count": null,
   "id": "8bfa2ce7",
   "metadata": {},
   "outputs": [],
   "source": []
  },
  {
   "cell_type": "code",
   "execution_count": null,
   "id": "242fbc63",
   "metadata": {},
   "outputs": [],
   "source": []
  },
  {
   "cell_type": "code",
   "execution_count": null,
   "id": "2ea8f1ec",
   "metadata": {},
   "outputs": [],
   "source": []
  },
  {
   "cell_type": "code",
   "execution_count": null,
   "id": "7e8d5481",
   "metadata": {},
   "outputs": [],
   "source": []
  },
  {
   "cell_type": "code",
   "execution_count": null,
   "id": "f457130e",
   "metadata": {},
   "outputs": [],
   "source": []
  },
  {
   "cell_type": "code",
   "execution_count": null,
   "id": "1ae10264",
   "metadata": {},
   "outputs": [],
   "source": []
  },
  {
   "cell_type": "code",
   "execution_count": null,
   "id": "7bb855e2",
   "metadata": {},
   "outputs": [],
   "source": []
  },
  {
   "cell_type": "code",
   "execution_count": null,
   "id": "232e9c4f",
   "metadata": {},
   "outputs": [],
   "source": []
  },
  {
   "cell_type": "code",
   "execution_count": null,
   "id": "9fddaafd",
   "metadata": {},
   "outputs": [],
   "source": []
  },
  {
   "cell_type": "code",
   "execution_count": null,
   "id": "1df118a4",
   "metadata": {},
   "outputs": [],
   "source": []
  },
  {
   "cell_type": "code",
   "execution_count": null,
   "id": "fcf5b835",
   "metadata": {},
   "outputs": [],
   "source": []
  }
 ],
 "metadata": {
  "kernelspec": {
   "display_name": "Python 3 (ipykernel)",
   "language": "python",
   "name": "python3"
  },
  "language_info": {
   "codemirror_mode": {
    "name": "ipython",
    "version": 3
   },
   "file_extension": ".py",
   "mimetype": "text/x-python",
   "name": "python",
   "nbconvert_exporter": "python",
   "pygments_lexer": "ipython3",
   "version": "3.10.9"
  }
 },
 "nbformat": 4,
 "nbformat_minor": 5
}
