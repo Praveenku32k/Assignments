{
 "cells": [
  {
   "cell_type": "markdown",
   "id": "35651150",
   "metadata": {},
   "source": [
    "1. What is the role of the 'else' block in a try-except statement? Provide an example\n",
    "scenario where it would be useful.\n",
    "2. Can a try-except block be nested inside another try-except block? Explain with an\n",
    "example.\n",
    "3. How can you create a custom exception class in Python? Provide an example that\n",
    "demonstrates its usage.\n",
    "4. What are some common exceptions that are built-in to Python?\n",
    "5. What is logging in Python, and why is it important in software development?\n",
    "6. Explain the purpose of log levels in Python logging and provide examples of when\n",
    "each log level would be appropriate.\n",
    "7. What are log formatters in Python logging, and how can you customise the log\n",
    "message format using formatters?\n",
    "8. How can you set up logging to capture log messages from multiple modules or\n",
    "classes in a Python application?\n",
    "9. What is the difference between the logging and print statements in Python? When\n",
    "should you use logging over print statements in a real-world application?\n",
    "10. Write a Python program that logs a message to a file named \"app.log\" with the\n",
    "following requirements:\n",
    "● The log message should be \"Hello, World!\"\n",
    "● The log level should be set to \"INFO.\"\n",
    "● The log file should append new log entries without overwriting previous ones.\n",
    "11. Create a Python program that logs an error message to the console and a file named\n",
    "\"errors.log\" if an exception occurs during the program's execution. The error\n",
    "message should include the exception type and a timestamp."
   ]
  },
  {
   "cell_type": "markdown",
   "id": "1d6e008d",
   "metadata": {},
   "source": [
    "# 1. What is the role of the 'else' block in a try-except statement? Provide an example scenario where it would be useful.\n"
   ]
  },
  {
   "cell_type": "code",
   "execution_count": 1,
   "id": "046d9c28",
   "metadata": {},
   "outputs": [
    {
     "name": "stdout",
     "output_type": "stream",
     "text": [
      "Enter a number: 7\n",
      "Result: 1.4285714285714286\n"
     ]
    }
   ],
   "source": [
    "try:\n",
    "    num = int(input(\"Enter a number: \"))\n",
    "    result = 10 / num\n",
    "except ValueError:\n",
    "    print(\"Invalid input. Please enter a valid number.\")\n",
    "except ZeroDivisionError:\n",
    "    print(\"Cannot divide by zero.\")\n",
    "else:\n",
    "    print(\"Result:\", result)\n"
   ]
  },
  {
   "cell_type": "markdown",
   "id": "571b0dd6",
   "metadata": {},
   "source": [
    "# 2. Can a try-except block be nested inside another try-except block? Explain with an example.\n"
   ]
  },
  {
   "cell_type": "code",
   "execution_count": 2,
   "id": "c3116e96",
   "metadata": {},
   "outputs": [
    {
     "name": "stdout",
     "output_type": "stream",
     "text": [
      "Enter a number: 7\n",
      "Enter another number: 8\n",
      "Result: 0.875\n"
     ]
    }
   ],
   "source": [
    "try:\n",
    "    outer_num = int(input(\"Enter a number: \"))\n",
    "    try:\n",
    "        inner_num = int(input(\"Enter another number: \"))\n",
    "        result = outer_num / inner_num\n",
    "        print(\"Result:\", result)\n",
    "    except ValueError:\n",
    "        print(\"Inner Block: Invalid input. Please enter a valid number.\")\n",
    "    except ZeroDivisionError:\n",
    "        print(\"Inner Block: Cannot divide by zero.\")\n",
    "except ValueError:\n",
    "    print(\"Outer Block: Invalid input. Please enter a valid number.\")\n",
    "except ZeroDivisionError:\n",
    "    print(\"Outer Block: Cannot divide by zero.\")\n",
    "except Exception as e:\n",
    "    print(\"Outer Block: An error occurred:\", e)\n"
   ]
  },
  {
   "cell_type": "markdown",
   "id": "44fa50e4",
   "metadata": {},
   "source": [
    "# 3. How can you create a custom exception class in Python? Provide an example that demonstrates its usage."
   ]
  },
  {
   "cell_type": "code",
   "execution_count": 3,
   "id": "de4f2b77",
   "metadata": {},
   "outputs": [
    {
     "name": "stdout",
     "output_type": "stream",
     "text": [
      "Enter a positive number: 3\n",
      "Data processing successful.\n"
     ]
    }
   ],
   "source": [
    "\n",
    "class CustomError(Exception):\n",
    "    def __init__(self, message):\n",
    "        self.message = message\n",
    "        super().__init__(self.message)\n",
    "\n",
    "def process_data(data):\n",
    "    if data < 0:\n",
    "        raise CustomError(\"Negative data values are not allowed\")\n",
    "\n",
    "try:\n",
    "    value = int(input(\"Enter a positive number: \"))\n",
    "    process_data(value)\n",
    "    print(\"Data processing successful.\")\n",
    "except CustomError as ce:\n",
    "    print(\"Custom Error:\", ce.message)\n",
    "except ValueError:\n",
    "    print(\"Invalid input. Please enter a valid number.\")\n"
   ]
  },
  {
   "cell_type": "markdown",
   "id": "9bbeb6d8",
   "metadata": {},
   "source": [
    "# 4. What are some common exceptions that are built-in to Python?"
   ]
  },
  {
   "cell_type": "markdown",
   "id": "13f7614f",
   "metadata": {},
   "source": [
    "SyntaxError: Raised when there's a syntax error in the code.\n",
    "IndentationError: Raised when there's an issue with the code's indentation.\n",
    "NameError: Raised when a local or global name is not found.\n",
    "TypeError: Raised when an operation or function is applied to an object of an inappropriate type.\n",
    "ValueError: Raised when an operation or function receives an argument of the correct type but with an inappropriate value.\n",
    "KeyError: Raised when a dictionary key is not found.\n",
    "IndexError: Raised when a sequence index is out of range.\n",
    "FileNotFoundError: Raised when an attempt to open a file fails (file not found).\n",
    "ZeroDivisionError: Raised when division or modulo by zero is encountered.\n",
    "IOError: Raised when an I/O operation (e.g., reading or writing a file) fails.\n",
    "AttributeError: Raised when an attribute reference or assignment fails.\n",
    "ImportError: Raised when an import statement fails to find the requested module.\n",
    "RuntimeError: Raised when an error related to runtime operation occurs.\n",
    "MemoryError: Raised when an operation cannot be completed due to a lack of memory.\n",
    "Exception: The base class for all built-in exceptions.\n",
    "These are just a few examples of the many built-in exception classes in Python. Understanding these exceptions helps you handle errors effectively and make your code more robust."
   ]
  },
  {
   "cell_type": "markdown",
   "id": "23ce1f16",
   "metadata": {},
   "source": [
    "# 5. What is logging in Python, and why is it important in software development?"
   ]
  },
  {
   "cell_type": "markdown",
   "id": "074eab76",
   "metadata": {},
   "source": [
    "Logging in Python refers to the process of recording important events, messages, and information about the execution of a program to a designated log file or output stream. It provides a structured way to capture information that helps developers monitor, debug, and diagnose issues in their software applications.\n",
    "\n",
    "Logging is important in software development for several reasons:\n",
    "\n",
    "Debugging and Troubleshooting: When an application encounters errors or unexpected behavior, logs provide valuable insights into what happened, where the issue occurred, and what data was involved. This makes it easier to diagnose and fix problems during development and testing.\n",
    "\n",
    "Real-time Monitoring: In production environments, applications generate logs that help operations teams monitor the health and performance of the system. Logs can provide information about resource usage, response times, and other metrics.\n",
    "\n",
    "Auditing and Compliance: Logging helps maintain an audit trail of critical events, user actions, and system activities. This is crucial for compliance with security and data privacy regulations.\n",
    "\n",
    "Performance Analysis: Logs can include information about execution times, bottlenecks, and resource consumption. Developers can analyze these logs to optimize code and improve application performance.\n",
    "\n",
    "Error Reporting and Analysis: Application errors and crashes can be automatically reported via logs. This enables developers to identify recurring issues and prioritize bug fixes.\n",
    "\n",
    "Documentation: Well-structured logs document the flow of the application, the sequence of events, and the interactions with external systems. This information aids developers and other stakeholders in understanding the application's behavior.\n",
    "\n",
    "Python provides a built-in logging module that allows developers to create and manage logs effectively. The logging module supports different log levels, customizable formatting, output to various destinations (files, console, network, etc.), and more. By using the logging module, developers can ensure that relevant information is captured in a consistent and organized manner, improving the maintainability and reliability of their software applications."
   ]
  },
  {
   "cell_type": "markdown",
   "id": "969e93f7",
   "metadata": {},
   "source": [
    "# 6. Explain the purpose of log levels in Python logging and provide examples of when each log level would be appropriate."
   ]
  },
  {
   "cell_type": "markdown",
   "id": "4a6fc16b",
   "metadata": {},
   "source": [
    "log levels in Python logging help categorize and prioritize log messages based on their importance and severity. Different levels indicate the criticality of events being logged. Examples include:\n",
    "\n",
    "DEBUG: Used for detailed debugging information, suitable for diagnosing complex issues during development.\n",
    "INFO: Provides general operational information, such as application startup and major operations.\n",
    "WARNING: Indicates potential issues that don't interrupt the application's flow but require attention, like deprecated function usage.\n",
    "ERROR: Records errors that affect the application's functionality but allow it to continue running.\n",
    "CRITICAL: Logs severe errors that might cause the application to crash or become unusable, such as a critical database failure.\n",
    "By setting appropriate log levels, developers can control the verbosity of logs and focus on relevant information for efficient debugging, monitoring, and troubleshoot"
   ]
  },
  {
   "cell_type": "markdown",
   "id": "2a68b113",
   "metadata": {},
   "source": [
    "# 7. What are log formatters in Python logging, and how can you customise the log message format using formatters?\n"
   ]
  },
  {
   "cell_type": "code",
   "execution_count": 4,
   "id": "42d995d0",
   "metadata": {},
   "outputs": [],
   "source": [
    "import logging\n"
   ]
  },
  {
   "cell_type": "code",
   "execution_count": 5,
   "id": "0b55bf0e",
   "metadata": {},
   "outputs": [],
   "source": [
    "log_formatter = logging.Formatter('%(asctime)s - %(levelname)s - %(message)s')\n"
   ]
  },
  {
   "cell_type": "code",
   "execution_count": 6,
   "id": "86a70944",
   "metadata": {},
   "outputs": [],
   "source": [
    "console_handler = logging.StreamHandler()\n",
    "console_handler.setFormatter(log_formatter)\n"
   ]
  },
  {
   "cell_type": "code",
   "execution_count": 7,
   "id": "50e3eb7f",
   "metadata": {},
   "outputs": [],
   "source": [
    "logger = logging.getLogger('my_logger')\n",
    "logger.setLevel(logging.DEBUG)\n",
    "logger.addHandler(console_handler)\n"
   ]
  },
  {
   "cell_type": "code",
   "execution_count": 8,
   "id": "e626c8cb",
   "metadata": {},
   "outputs": [
    {
     "name": "stderr",
     "output_type": "stream",
     "text": [
      "2023-08-21 16:11:49,523 - DEBUG - This is a debug message.\n",
      "2023-08-21 16:11:49,533 - INFO - This is an info message.\n"
     ]
    }
   ],
   "source": [
    "logger.debug('This is a debug message.')\n",
    "logger.info('This is an info message.')\n"
   ]
  },
  {
   "cell_type": "markdown",
   "id": "09b3a9af",
   "metadata": {},
   "source": [
    "# 8. How can you set up logging to capture log messages from multiple modules or classes in a Python application?\n"
   ]
  },
  {
   "cell_type": "code",
   "execution_count": 9,
   "id": "a64e2ec6",
   "metadata": {},
   "outputs": [],
   "source": [
    "import logging\n",
    "\n",
    "# Set the root logger's level\n",
    "logging.basicConfig(level=logging.DEBUG)\n",
    "\n",
    "# Create handlers (console, file, etc.) and set their format\n",
    "console_handler = logging.StreamHandler()\n",
    "console_handler.setFormatter(logging.Formatter('%(asctime)s - %(levelname)s - %(message)s'))\n",
    "\n",
    "file_handler = logging.FileHandler('app.log')\n",
    "file_handler.setFormatter(logging.Formatter('%(asctime)s - %(name)s - %(levelname)s - %(message)s'))\n",
    "\n",
    "# Attach handlers to loggers\n",
    "root_logger = logging.getLogger()\n",
    "root_logger.addHandler(console_handler)\n",
    "root_logger.addHandler(file_handler)\n"
   ]
  },
  {
   "cell_type": "markdown",
   "id": "aa8f0c13",
   "metadata": {},
   "source": [
    "# 9. What is the difference between the logging and print statements in Python? When should you use logging over print statements in a real-world application?"
   ]
  },
  {
   "cell_type": "code",
   "execution_count": null,
   "id": "2a0479e2",
   "metadata": {},
   "outputs": [],
   "source": [
    "Logging:\n",
    "\n",
    "Logging is a systematic approach to record events and messages for debugging, monitoring, and analysis.\n",
    "It supports different log levels, customizable formatting, and various output destinations (files, console, etc.).\n",
    "Logging is suitable for production environments, as it doesn't clutter the output and provides structured information.\n",
    "Log messages can be filtered by severity, and they remain in code even in production, aiding in post-release debugging.\n",
    "Print Statements:\n",
    "\n",
    "Print statements are used for temporary output and debugging during development.\n",
    "They lack features like different log levels and flexible formatting.\n",
    "Print statements can clutter the output and may not be suitable for long-term logging in production.\n",
    "ts in real-world applications when you need structured and controlled logging for debugging, error tracking, and performance monitoring. It helps in maintaining clean code and providing valuable insights into the application's behavior without affecting end users.\n",
    "\n",
    "\n",
    "\n",
    "\n",
    "\n"
   ]
  },
  {
   "cell_type": "markdown",
   "id": "045f1e6d",
   "metadata": {},
   "source": [
    "# 10. Write a Python program that logs a message to a file named \"app.log\" with the\n",
    "following requirements:\n",
    "● The log message should be \"Hello, World!\"\n",
    "● The log level should be set to \"INFO.\"\n",
    "● The log file should append new log entries without overwriting previous ones."
   ]
  },
  {
   "cell_type": "code",
   "execution_count": null,
   "id": "e28ee2e3",
   "metadata": {},
   "outputs": [],
   "source": []
  },
  {
   "cell_type": "code",
   "execution_count": null,
   "id": "2147d76b",
   "metadata": {},
   "outputs": [],
   "source": []
  },
  {
   "cell_type": "markdown",
   "id": "8510eaf4",
   "metadata": {},
   "source": [
    "# 11. Create a Python program that logs an error message to the console and a file named\n",
    "\"errors.log\" if an exception occurs during the program's execution. The error\n",
    "message should include the exception type and a timestamp."
   ]
  },
  {
   "cell_type": "code",
   "execution_count": null,
   "id": "e4ec504b",
   "metadata": {},
   "outputs": [],
   "source": []
  }
 ],
 "metadata": {
  "kernelspec": {
   "display_name": "Python 3 (ipykernel)",
   "language": "python",
   "name": "python3"
  },
  "language_info": {
   "codemirror_mode": {
    "name": "ipython",
    "version": 3
   },
   "file_extension": ".py",
   "mimetype": "text/x-python",
   "name": "python",
   "nbconvert_exporter": "python",
   "pygments_lexer": "ipython3",
   "version": "3.10.9"
  }
 },
 "nbformat": 4,
 "nbformat_minor": 5
}
