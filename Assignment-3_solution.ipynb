{
 "cells": [
  {
   "cell_type": "raw",
   "id": "01892380",
   "metadata": {},
   "source": [
    "1. Why are functions advantageous to have in your programs?\n",
    "2. When does the code in a function run: when it's specified or when it's called?\n",
    "3. What statement creates a function?\n",
    "4. What is the difference between a function and a function call?\n",
    "5. How many global scopes are there in a Python program? How many local scopes?\n",
    "6. What happens to variables in a local scope when the function call returns?\n",
    "7. What is the concept of a return value? Is it possible to have a return value in an expression?\n",
    "8. If a function does not have a return statement, what is the return value of a call to that function?\n",
    "9. How do you make a function variable refer to the global variable?\n",
    "10. What is the data type of None?\n",
    "11. What does the sentence import areallyourpetsnamederic do?\n",
    "12. If you had a bacon() feature in a spam module, what would you call it after importing spam?\n",
    "13. What can you do to save a programme from crashing if it encounters an error?\n",
    "14. What is the purpose of the try clause? What is the purpose of the except clause?\n",
    "\n"
   ]
  },
  {
   "cell_type": "markdown",
   "id": "4acd334e",
   "metadata": {},
   "source": [
    "# 1. Why are functions advantageous to have in your programs?"
   ]
  },
  {
   "cell_type": "markdown",
   "id": "2e077b70",
   "metadata": {},
   "source": [
    "Functions are an essential programming concept that offers several advantages in software development.\n",
    "Here are some of the key advantages of using functions in your programs:\n",
    "Modularity and Reusability\n",
    "Readability and Maintainability\n",
    "Abstraction and Encapsulation\n",
    "Testing and Debugging\n",
    "Scoping and Variable Isolation\n",
    "Code Organization\n",
    "Code Reusability\n",
    "Collaboration"
   ]
  },
  {
   "cell_type": "markdown",
   "id": "e7f54695",
   "metadata": {},
   "source": [
    "# 2. When does the code in a function run: when it's specified or when it's called?\n"
   ]
  },
  {
   "cell_type": "markdown",
   "id": "5a2b178a",
   "metadata": {},
   "source": [
    "The code within a function runs when the function is called.\n",
    "Defining a function establishes its structure, input parameters, and the operations it should perform,\n",
    "but it doesn't execute its code until the function is invoked using its name and appropriate arguments.\n",
    "When the function is called, the program's control flow transfers to the function's code block, executing the defined instructions. \n",
    "Once the function completes its execution or returns a value, the control flow returns to the point where the function was called, allowing the program to continue running from there. \n",
    "This separation of definition and execution enables modularity, reusability, and better code organization in software development.\n",
    "\n",
    "\n",
    "\n",
    "\n",
    "\n"
   ]
  },
  {
   "cell_type": "markdown",
   "id": "d10dcb35",
   "metadata": {},
   "source": [
    "# 3. What statement creates a function?"
   ]
  },
  {
   "cell_type": "code",
   "execution_count": 1,
   "id": "f78db099",
   "metadata": {},
   "outputs": [],
   "source": [
    "def greet(name):\n",
    "    print(\"Hello, \" + name + \"!\")"
   ]
  },
  {
   "cell_type": "markdown",
   "id": "171fd601",
   "metadata": {},
   "source": [
    "# 4. What is the difference between a function and a function call?\n"
   ]
  },
  {
   "cell_type": "markdown",
   "id": "e5cc19a2",
   "metadata": {},
   "source": [
    "Function: A function is a self-contained block of code that performs a specific task or a set of related tasks. It is defined using a function declaration or definition, which specifies its name, parameters (if any), and the code to be executed when the function is called. Functions encapsulate logic, allowing you to reuse and modularize code.\n",
    "\n",
    "Function Call: A function call is an action that invokes or executes a specific function, causing the code within that function to run. To call a function, you use the function's name followed by parentheses, optionally containing any required arguments. When a function call is encountered, the program transfers control to the function's code block, executes the code, and then returns control to the point where the function was called.\n",
    "\n",
    "In simple terms, a function is like a recipe, describing what needs to be done, while a function call is like following that recipe, actually performing the steps described in the function. Here's a basic example in Python:\n",
    "\n",
    "# Function definition\n",
    "def greet(name):\n",
    "    print(\"Hello, \" + name + \"!\")\n",
    "\n",
    "# Function call\n",
    "greet(\"Alice\")\n",
    "In this example, greet is the function, and greet(\"Alice\") is the function call. The function call executes the code within the greet function, printing \"Hello, Alice!\" to the console."
   ]
  },
  {
   "cell_type": "markdown",
   "id": "a7dad79d",
   "metadata": {},
   "source": [
    "# 5. How many global scopes are there in a Python program? How many local scopes?"
   ]
  },
  {
   "cell_type": "markdown",
   "id": "4a24e33b",
   "metadata": {},
   "source": [
    "Global Scope: The global scope refers to the top-level scope of a Python program.\n",
    "It's the outermost scope where variables and functions are defined at the module level.\n",
    "Variables and functions defined in the global scope are accessible throughout the entire program, including within any nested functions or other scopes. \n",
    "There is only one global scope per Python module or script.\n",
    "\n",
    "Local Scopes: Local scopes are created when you define a function. \n",
    "Each function call creates its own local scope, which is isolated from the global scope and other local scopes.\n",
    "Variables defined within a function's code block are considered to be in the local scope of that function. "
   ]
  },
  {
   "cell_type": "markdown",
   "id": "41828285",
   "metadata": {},
   "source": [
    "# 6. What happens to variables in a local scope when the function call returns?"
   ]
  },
  {
   "cell_type": "markdown",
   "id": "970aab3c",
   "metadata": {},
   "source": [
    "When a function call returns in Python, the variables that were defined within \n",
    "the local scope of that function are typically destroyed and their memory is released. \n",
    "This process is part of Python's memory management and scoping rules\n",
    "\n",
    "def example_function():\n",
    "    local_variable = 42\n",
    "    print(local_variable)\n",
    "\n",
    "example_function()"
   ]
  },
  {
   "cell_type": "markdown",
   "id": "73062a72",
   "metadata": {},
   "source": [
    "# 7. What is the concept of a return value? Is it possible to have a return value in an expression?"
   ]
  },
  {
   "cell_type": "code",
   "execution_count": null,
   "id": "0bbe0df3",
   "metadata": {},
   "outputs": [],
   "source": [
    "when we call the function is conpuslary to return the value .\n",
    "yes , it is possible to return the value .\n",
    "In python we can return multiple value ."
   ]
  },
  {
   "cell_type": "markdown",
   "id": "eda3f456",
   "metadata": {},
   "source": [
    "# 8. If a function does not have a return statement, what is the return value of a call to that function?"
   ]
  },
  {
   "cell_type": "markdown",
   "id": "1ddde39c",
   "metadata": {},
   "source": [
    "IF we define the function is comapusary to rteun it.\n",
    "if you can'nt return the value you will get value error. "
   ]
  },
  {
   "cell_type": "markdown",
   "id": "d0b63a2b",
   "metadata": {},
   "source": [
    "# 9. How do you make a function variable refer to the global variable?"
   ]
  },
  {
   "cell_type": "code",
   "execution_count": 2,
   "id": "8f94ceb9",
   "metadata": {},
   "outputs": [
    {
     "name": "stdout",
     "output_type": "stream",
     "text": [
      "15\n"
     ]
    }
   ],
   "source": [
    "global_var = 10  # This is a global variable\n",
    "\n",
    "def modify_global():\n",
    "    global global_var  # Declare that we're using the global variable\n",
    "    global_var += 5\n",
    "\n",
    "modify_global()\n",
    "print(global_var)  # This will output: 15\n",
    "\n",
    "\n"
   ]
  },
  {
   "cell_type": "markdown",
   "id": "aafc198c",
   "metadata": {},
   "source": [
    "# 10. What is the data type of None?"
   ]
  },
  {
   "cell_type": "code",
   "execution_count": null,
   "id": "03673dad",
   "metadata": {},
   "outputs": [],
   "source": [
    "None represent nothing. \n",
    "None means empty.\n",
    "None is one of the data type in python"
   ]
  },
  {
   "cell_type": "markdown",
   "id": "d2875521",
   "metadata": {},
   "source": [
    "# 11. What does the sentence import areallyourpetsnamederic do?"
   ]
  },
  {
   "cell_type": "markdown",
   "id": "05ea0c0c",
   "metadata": {},
   "source": [
    "import my_module\n",
    "\n",
    "result = my_module.my_function()"
   ]
  },
  {
   "cell_type": "markdown",
   "id": "298c6701",
   "metadata": {},
   "source": [
    "# 12. If you had a bacon() feature in a spam module, what would you call it after importing spam?"
   ]
  },
  {
   "cell_type": "code",
   "execution_count": null,
   "id": "0112a3b8",
   "metadata": {},
   "outputs": [],
   "source": [
    "import spam\n",
    "\n",
    "spam.bacon()"
   ]
  },
  {
   "cell_type": "markdown",
   "id": "934ee6bc",
   "metadata": {},
   "source": [
    "# 13. What can you do to save a programme from crashing if it encounters an error?"
   ]
  },
  {
   "cell_type": "code",
   "execution_count": null,
   "id": "a07aa12b",
   "metadata": {},
   "outputs": [],
   "source": [
    "To prevent a program from crashing when encountering errors, you can implement error handling techniques. \n",
    "In Python, this is typically done using exception handling.\n",
    "Identify Potential Errors\n",
    "use Try-Except Blocks\n",
    "Catch Specific Exceptions\n",
    "Handle Unforeseen Exceptions"
   ]
  },
  {
   "cell_type": "markdown",
   "id": "4c429266",
   "metadata": {},
   "source": [
    "# 14. What is the purpose of the try clause? What is the purpose of the except clause?"
   ]
  },
  {
   "cell_type": "markdown",
   "id": "b9e6e8f8",
   "metadata": {},
   "source": [
    "try block handle the risky code . \n",
    "where the main purpose of except block is to handle the alternate code ."
   ]
  }
 ],
 "metadata": {
  "kernelspec": {
   "display_name": "Python 3 (ipykernel)",
   "language": "python",
   "name": "python3"
  },
  "language_info": {
   "codemirror_mode": {
    "name": "ipython",
    "version": 3
   },
   "file_extension": ".py",
   "mimetype": "text/x-python",
   "name": "python",
   "nbconvert_exporter": "python",
   "pygments_lexer": "ipython3",
   "version": "3.10.9"
  }
 },
 "nbformat": 4,
 "nbformat_minor": 5
}
