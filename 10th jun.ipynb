{
 "cells": [
  {
   "cell_type": "markdown",
   "id": "2653822c",
   "metadata": {},
   "source": [
    "1. In Python, what is the difference between a built-in function and a user-defined function? Provide an\n",
    "example of each.\n",
    "2. How can you pass arguments to a function in Python? Explain the difference between positional\n",
    "arguments and keyword arguments.\n",
    "3. What is the purpose of the return statement in a function? Can a function have multiple return\n",
    "statements? Explain with an example.\n",
    "4. What are lambda functions in Python? How are they different from regular functions? Provide an\n",
    "example where a lambda function can be useful.\n",
    "5. How does the concept of \"scope\" apply to functions in Python? Explain the difference between local\n",
    "scope and global scope.\n",
    "6. How can you use the \"return\" statement in a Python function to return multiple values?\n",
    "7. What is the difference between the \"pass by value\" and \"pass by reference\" concepts when it\n",
    "comes to function arguments in Python?\n",
    "8. Create a function that can intake integer or decimal value and do following operations:\n",
    "a. Logarithmic function (log x)\n",
    "b. Exponential function (exp(x))\n",
    "c. Power function with base 2 (2\n",
    "x\n",
    ")\n",
    "\n",
    "d. Square root\n",
    "9. Create a function that takes a full name as an argument and returns first name and last name."
   ]
  },
  {
   "cell_type": "markdown",
   "id": "4d145751",
   "metadata": {},
   "source": [
    "# 1. In Python, what is the difference between a built-in function and a user-defined function? Provide an example of each."
   ]
  },
  {
   "cell_type": "code",
   "execution_count": null,
   "id": "593e7c72",
   "metadata": {},
   "outputs": [],
   "source": [
    "# Create a list of integers\n",
    "my_list = [5, 8, 10, 15, 20, 25, 30, 35, 40, 45, 50, 55, 60, 65, 70]\n",
    "\n",
    "# Check if 10 is present in the list\n",
    "if 10 in my_list:\n",
    "    print(\"10 is present in the list.\")\n",
    "else:\n",
    "    print(\"10 is not present in the list.\")\n"
   ]
  },
  {
   "cell_type": "markdown",
   "id": "b5ba5ffa",
   "metadata": {},
   "source": [
    "# 2. How can you pass arguments to a function in Python? Explain the difference between positional arguments and keyword arguments.\n"
   ]
  },
  {
   "cell_type": "code",
   "execution_count": 1,
   "id": "703c17d4",
   "metadata": {},
   "outputs": [
    {
     "name": "stdout",
     "output_type": "stream",
     "text": [
      "13\n"
     ]
    }
   ],
   "source": [
    "length = len(\"Hello, world!\")  # Returns the length of the string\n",
    "print(length)"
   ]
  },
  {
   "cell_type": "markdown",
   "id": "7784f1ce",
   "metadata": {},
   "source": [
    "# 3. What is the purpose of the return statement in a function? Can a function have multiple return statements? Explain with an example.\n"
   ]
  },
  {
   "cell_type": "code",
   "execution_count": 2,
   "id": "30512bb1",
   "metadata": {},
   "outputs": [
    {
     "name": "stdout",
     "output_type": "stream",
     "text": [
      "Positive\n",
      "Negative\n",
      "Zero\n"
     ]
    }
   ],
   "source": [
    "def check_number(number):\n",
    "    if number > 0:\n",
    "        return \"Positive\"\n",
    "    elif number < 0:\n",
    "        return \"Negative\"\n",
    "    else:\n",
    "        return \"Zero\"\n",
    "\n",
    "result1 = check_number(5)\n",
    "result2 = check_number(-3)\n",
    "result3 = check_number(0)\n",
    "\n",
    "print(result1)  # Output: Positive\n",
    "print(result2)  # Output: Negative\n",
    "print(result3)  # Output: Zero\n"
   ]
  },
  {
   "cell_type": "markdown",
   "id": "e97ac058",
   "metadata": {},
   "source": [
    "# 4. What are lambda functions in Python? How are they different from regular functions? Provide an\n",
    "example where a lambda function can be useful.\n"
   ]
  },
  {
   "cell_type": "code",
   "execution_count": 3,
   "id": "9fdf6fc1",
   "metadata": {},
   "outputs": [
    {
     "name": "stdout",
     "output_type": "stream",
     "text": [
      "25\n",
      "25\n"
     ]
    }
   ],
   "source": [
    "# Regular function to calculate the square of a number\n",
    "def square(x):\n",
    "    return x * x\n",
    "\n",
    "# Equivalent lambda function\n",
    "lambda_square = lambda x: x * x\n",
    "\n",
    "print(square(5))          # Output: 25\n",
    "print(lambda_square(5))   # Output: 25\n"
   ]
  },
  {
   "cell_type": "code",
   "execution_count": 4,
   "id": "7daf493c",
   "metadata": {},
   "outputs": [
    {
     "name": "stdout",
     "output_type": "stream",
     "text": [
      "hello\n",
      "HELLO\n"
     ]
    }
   ],
   "source": [
    "my_string = \"hello\"\n",
    "new_string = my_string.upper()  # Creating a new string with modified value\n",
    "print(my_string)  # Output: \"hello\"\n",
    "print(new_string)  # Output: \"HELLO\"\n"
   ]
  },
  {
   "cell_type": "markdown",
   "id": "7f640b1e",
   "metadata": {},
   "source": [
    "# 5. How does the concept of \"scope\" apply to functions in Python? Explain the difference between local\n",
    "scope and global scope.\n"
   ]
  },
  {
   "cell_type": "code",
   "execution_count": 5,
   "id": "5c794a6d",
   "metadata": {},
   "outputs": [
    {
     "name": "stdout",
     "output_type": "stream",
     "text": [
      "10\n"
     ]
    }
   ],
   "source": [
    "def my_function():\n",
    "    x = 10  # Local variable\n",
    "    print(x)\n",
    "\n",
    "my_function()"
   ]
  },
  {
   "cell_type": "code",
   "execution_count": 6,
   "id": "d040aaca",
   "metadata": {},
   "outputs": [
    {
     "name": "stdout",
     "output_type": "stream",
     "text": [
      "20\n",
      "20\n",
      "30\n"
     ]
    }
   ],
   "source": [
    "global_var = 20  # Global variable\n",
    "\n",
    "def my_function():\n",
    "    print(global_var)  # Access global variable\n",
    "\n",
    "my_function()\n",
    "print(global_var)     # Access global variable\n",
    "\n",
    "def modify_global():\n",
    "    global global_var  # Declare the intention to use the global variable\n",
    "    global_var = 30    # Modify the global variable\n",
    "\n",
    "modify_global()\n",
    "print(global_var)     # Output: 30\n"
   ]
  },
  {
   "cell_type": "markdown",
   "id": "71b19e9f",
   "metadata": {},
   "source": [
    "# 6. How can you use the \"return\" statement in a Python function to return multiple values?\n"
   ]
  },
  {
   "cell_type": "code",
   "execution_count": 7,
   "id": "7b4211f3",
   "metadata": {},
   "outputs": [
    {
     "name": "stdout",
     "output_type": "stream",
     "text": [
      "{'a': 10, 'b': 20, 'c': 30}\n"
     ]
    }
   ],
   "source": [
    "def multiple_values():\n",
    "    a = 10\n",
    "    b = 20\n",
    "    c = 30\n",
    "    return {'a': a, 'b': b, 'c': c}\n",
    "\n",
    "result = multiple_values()\n",
    "print(result)"
   ]
  },
  {
   "cell_type": "markdown",
   "id": "e9262ed8",
   "metadata": {},
   "source": [
    "# 7. What is the difference between the \"pass by value\" and \"pass by reference\" concepts when it\n",
    "comes to function arguments in Python?\n"
   ]
  },
  {
   "cell_type": "markdown",
   "id": "20342b2f",
   "metadata": {},
   "source": [
    "Pass by Value:\n",
    "In \"pass by value\" languages, a copy of the value of the variable is passed to the function. Changes made to the parameter within the function do not affect the original variable.\n",
    "\n",
    "Pass by Reference:\n",
    "In \"pass by reference\" languages, a reference to the memory location of the variable is passed to the function. Changes made to the parameter within the function directly affect the original variable.\n",
    "\n",
    "Python's Behavior (\"Pass by Assignment\"):\n",
    "Python's argument passing behavior is different. When you pass an argument to a function, you're actually passing a reference to the object. If the object is mutable (like a list or dictionary), changes within the function will affect the original object. If the object is immutable (like an integer or string), you can't modify its value directly within the function.\n",
    "\n",
    "Example of mutable object (list):\n",
    "\n",
    "python\n",
    "Copy code\n",
    "def modify_list(lst):\n",
    "    lst.append(4)\n",
    "\n",
    "my_list = [1, 2, 3]\n",
    "modify_list(my_list)\n",
    "print(my_list)  # Output: [1, 2, 3, 4]\n",
    "Example of immutable object (integer):\n",
    "\n",
    "python\n",
    "Copy code\n",
    "def modify_integer(num):\n",
    "    num += 1\n",
    "\n",
    "my_number = 10\n",
    "modify_integer(my_number)\n",
    "print(my_number)  # Output: 10\n",
    "In summary, Python's argument passing combines aspects of both \"pass by value\" and \"pass by reference.\" It's crucial to understand how mutable and immutable objects behave in function arguments to avoid unexpected results.\n",
    "\n",
    "\n",
    "\n",
    "\n",
    "\n"
   ]
  },
  {
   "cell_type": "code",
   "execution_count": null,
   "id": "edd8d8b1",
   "metadata": {},
   "outputs": [],
   "source": [
    "8. Create a function that can intake integer or decimal value and do following operations:\n",
    "a. Logarithmic function (log x)\n",
    "b. Exponential function (exp(x))\n",
    "c. Power function with base 2 (2\n",
    "x\n",
    ")\n",
    "\n",
    "d. Square root"
   ]
  },
  {
   "cell_type": "code",
   "execution_count": null,
   "id": "38848ac8",
   "metadata": {},
   "outputs": [],
   "source": []
  },
  {
   "cell_type": "code",
   "execution_count": null,
   "id": "f66e7390",
   "metadata": {},
   "outputs": [],
   "source": [
    "9. Create a function that takes a full name as an argument and returns first name and last name."
   ]
  },
  {
   "cell_type": "code",
   "execution_count": null,
   "id": "af769165",
   "metadata": {},
   "outputs": [],
   "source": []
  },
  {
   "cell_type": "code",
   "execution_count": null,
   "id": "20879fbf",
   "metadata": {},
   "outputs": [],
   "source": []
  }
 ],
 "metadata": {
  "kernelspec": {
   "display_name": "Python 3 (ipykernel)",
   "language": "python",
   "name": "python3"
  },
  "language_info": {
   "codemirror_mode": {
    "name": "ipython",
    "version": 3
   },
   "file_extension": ".py",
   "mimetype": "text/x-python",
   "name": "python",
   "nbconvert_exporter": "python",
   "pygments_lexer": "ipython3",
   "version": "3.10.9"
  }
 },
 "nbformat": 4,
 "nbformat_minor": 5
}
