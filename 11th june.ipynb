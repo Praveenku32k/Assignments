{
 "cells": [
  {
   "cell_type": "markdown",
   "id": "1289a51a",
   "metadata": {},
   "source": [
    "1. What is a lambda function in Python, and how does it differ from a regular function?\n",
    "2. Can a lambda function in Python have multiple arguments? If yes, how can you define and use\n",
    "them?\n",
    "3. How are lambda functions typically used in Python? Provide an example use case.\n",
    "4. What are the advantages and limitations of lambda functions compared to regular functions in\n",
    "Python?\n",
    "5. Are lambda functions in Python able to access variables defined outside of their own scope?\n",
    "Explain with an example.\n",
    "6. Write a lambda function to calculate the square of a given number.\n",
    "7. Create a lambda function to find the maximum value in a list of integers.\n",
    "8. Implement a lambda function to filter out all the even numbers from a list of integers.\n",
    "9. Write a lambda function to sort a list of strings in ascending order based on the length of each\n",
    "string.\n",
    "10. Create a lambda function that takes two lists as input and returns a new list containing the\n",
    "common elements between the two lists.\n",
    "11. Write a recursive function to calculate the factorial of a given positive integer.\n",
    "12. Implement a recursive function to compute the nth Fibonacci number.\n",
    "13. Create a recursive function to find the sum of all the elements in a given list.\n",
    "14. Write a recursive function to determine whether a given string is a palindrome.\n",
    "15. Implement a recursive function to find the greatest common divisor (GCD) of two positive integers."
   ]
  },
  {
   "cell_type": "markdown",
   "id": "56e12f62",
   "metadata": {},
   "source": [
    "# 1. What is a lambda function in Python, and how does it differ from a regular function?"
   ]
  },
  {
   "cell_type": "markdown",
   "id": "dd5f48f7",
   "metadata": {},
   "source": [
    "A lambda function in Python is a small, anonymous function that can have any number of arguments, but can only have one expression. It's defined using the lambda keyword, followed by the parameters and the expression. \n",
    "Lambda functions are often used for short, simple operations where a full function definition is not necessary\n",
    "\n",
    "square = lambda x: x * x\n",
    "\n",
    "print(square(5)) "
   ]
  },
  {
   "cell_type": "markdown",
   "id": "ffc875a9",
   "metadata": {},
   "source": [
    "# 2. Can a lambda function in Python have multiple arguments? If yes, how can you define and use them?"
   ]
  },
  {
   "cell_type": "markdown",
   "id": "9afaf0f2",
   "metadata": {},
   "source": [
    "lambda arguments: expression\n",
    "# Lambda function to calculate the sum of two numbers\n",
    "add = lambda x, y: x + y\n",
    "\n",
    "result = add(5, 3)\n",
    "print(result) \n"
   ]
  },
  {
   "cell_type": "markdown",
   "id": "2b891126",
   "metadata": {},
   "source": [
    "# 3. How are lambda functions typically used in Python? Provide an example use case."
   ]
  },
  {
   "cell_type": "markdown",
   "id": "d9129d97",
   "metadata": {},
   "source": [
    "Lambda functions in Python are typically used for situations where a simple, short-lived function is needed.\n",
    "They are often employed in scenarios where a function is required as an argument to another function, like sorting, filtering, and mapping operations.\n",
    "points = [(3, 5), (1, 9), (8, 2)]\n",
    "\n",
    "points.sort(key=lambda point: point[1])\n",
    "\n",
    "print(points)\n",
    "\n",
    "\n",
    "\n"
   ]
  },
  {
   "cell_type": "markdown",
   "id": "4a434f80",
   "metadata": {},
   "source": [
    "# 4. What are the advantages and limitations of lambda functions compared to regular functions in Python?"
   ]
  },
  {
   "cell_type": "markdown",
   "id": "ddaeef5c",
   "metadata": {},
   "source": [
    "\n",
    "Lambda Functions - Advantages:\n",
    "\n",
    "Conciseness: Lambda functions offer a compact syntax for defining simple operations, making the code more concise and readable.\n",
    "\n",
    "Inline Usage: Lambda functions can be used inline where they are needed, reducing the need for named function definitions.\n",
    "\n",
    "Functional Programming: Lambda functions are useful in functional programming paradigms, where functions are treated as first-class citizens.\n",
    "\n",
    "Reduced Overhead: Lambda functions reduce the overhead of defining a full function with a name when only a short operation is needed.\n",
    "\n",
    "Lambda Functions - Limitations:\n",
    "\n",
    "Limited Complexity: Lambda functions are limited to a single expression, making them unsuitable for complex operations requiring multiple statements.\n",
    "\n",
    "No Statements: Lambda functions cannot contain statements like loops or conditionals, further limiting their capabilities.\n",
    "\n",
    "No Documentation: Lambda functions lack descriptive names, making it harder to understand their purpose without additional comments.\n",
    "\n",
    "Limited Reusability: While lambda functions can be used inline, they cannot be reused as easily as regular named functions.\n",
    "\n",
    "Regular Functions - Advantages:\n",
    "\n",
    "Complexity: Regular functions can handle complex operations with multiple statements, loops, and conditionals.\n",
    "\n",
    "Reusability: Regular functions can be defined once and reused multiple times throughout the code.\n",
    "\n",
    "Descriptive Names: Named functions provide meaningful names, improving code readability and maintainability.\n",
    "\n",
    "Documentation: Named functions can include docstrings and comments, making their purpose and usage clearer.\n",
    "\n",
    "Regular Functions - Limitations:\n",
    "\n",
    "Syntax Overhead: Regular functions have a more verbose syntax with a def keyword, parameter list, and indentation.\n",
    "\n",
    "Overkill for Simple Tasks: Regular functions may introduce unnecessary complexity for simple, short-lived operations.\n",
    "\n",
    "In summary, lambda functions are useful for short, simple operations and functional programming paradigms, while regular functions are more versatile, reusable, and better suited for complex tasks and code organization. The choice between lambda functions and regular functions depends on the specific use case and the balance between conciseness and functionality.\n"
   ]
  },
  {
   "cell_type": "markdown",
   "id": "f5205d95",
   "metadata": {},
   "source": [
    "# 5. Are lambda functions in Python able to access variables defined outside of their own scope?Explain with an example."
   ]
  },
  {
   "cell_type": "code",
   "execution_count": 1,
   "id": "6b51e34e",
   "metadata": {},
   "outputs": [
    {
     "name": "stdout",
     "output_type": "stream",
     "text": [
      "18\n"
     ]
    }
   ],
   "source": [
    "def outer_function(x):\n",
    "    y = 10  # Variable defined in the enclosing scope\n",
    "\n",
    "    # Define a lambda function that uses 'x' and 'y'\n",
    "    lambda_function = lambda z: x + y + z\n",
    "\n",
    "    return lambda_function\n",
    "\n",
    "# Create an instance of the outer function\n",
    "my_lambda = outer_function(5)\n",
    "\n",
    "# Call the lambda function with an argument\n",
    "result = my_lambda(3)\n",
    "print(result)  # Output: 18 (5 + 10 + 3)\n"
   ]
  },
  {
   "cell_type": "markdown",
   "id": "1a656095",
   "metadata": {},
   "source": [
    "# 6. Write a lambda function to calculate the square of a given number."
   ]
  },
  {
   "cell_type": "code",
   "execution_count": 2,
   "id": "fc107596",
   "metadata": {},
   "outputs": [
    {
     "name": "stdout",
     "output_type": "stream",
     "text": [
      "25\n"
     ]
    }
   ],
   "source": [
    "square = lambda x: x ** 2\n",
    "\n",
    "number = 5\n",
    "result = square(number)\n",
    "print(result)  # Output: 25\n"
   ]
  },
  {
   "cell_type": "markdown",
   "id": "93d39c1a",
   "metadata": {},
   "source": [
    "# 7. Create a lambda function to find the maximum value in a list of integers."
   ]
  },
  {
   "cell_type": "code",
   "execution_count": 3,
   "id": "eb0989d9",
   "metadata": {},
   "outputs": [
    {
     "name": "stdout",
     "output_type": "stream",
     "text": [
      "30\n"
     ]
    }
   ],
   "source": [
    "numbers = [10, 5, 20, 15, 25, 30]\n",
    "\n",
    "max_value = lambda lst: max(lst)\n",
    "\n",
    "result = max_value(numbers)\n",
    "print(result)  # Output: 30\n"
   ]
  },
  {
   "cell_type": "markdown",
   "id": "ec0c9b07",
   "metadata": {},
   "source": [
    "# 8. Implement a lambda function to filter out all the even numbers from a list of integers.\n"
   ]
  },
  {
   "cell_type": "code",
   "execution_count": 4,
   "id": "04e520bd",
   "metadata": {},
   "outputs": [
    {
     "name": "stdout",
     "output_type": "stream",
     "text": [
      "[10, 20, 30]\n"
     ]
    }
   ],
   "source": [
    "numbers = [10, 5, 20, 15, 25, 30]\n",
    "\n",
    "even_numbers = list(filter(lambda x: x % 2 == 0, numbers))\n",
    "\n",
    "print(even_numbers)  # Output: [10, 20, 30]\n"
   ]
  },
  {
   "cell_type": "markdown",
   "id": "0c3ae97f",
   "metadata": {},
   "source": [
    "# 9. Write a lambda function to sort a list of strings in ascending order based on the length of each string."
   ]
  },
  {
   "cell_type": "code",
   "execution_count": 5,
   "id": "17eac911",
   "metadata": {},
   "outputs": [
    {
     "name": "stdout",
     "output_type": "stream",
     "text": [
      "['date', 'apple', 'banana', 'cherry', 'elderberry']\n"
     ]
    }
   ],
   "source": [
    "strings = [\"apple\", \"banana\", \"cherry\", \"date\", \"elderberry\"]\n",
    "\n",
    "sorted_strings = sorted(strings, key=lambda s: len(s))\n",
    "\n",
    "print(sorted_strings)  # Output: ['date', 'apple', 'cherry', 'banana', 'elderberry']\n"
   ]
  },
  {
   "cell_type": "markdown",
   "id": "ca9b4186",
   "metadata": {},
   "source": [
    "# 10. Create a lambda function that takes two lists as input and returns a new list containing the common elements between the two lists."
   ]
  },
  {
   "cell_type": "code",
   "execution_count": 6,
   "id": "84633f75",
   "metadata": {},
   "outputs": [
    {
     "name": "stdout",
     "output_type": "stream",
     "text": [
      "[3, 4, 5]\n"
     ]
    }
   ],
   "source": [
    "list1 = [1, 2, 3, 4, 5]\n",
    "list2 = [3, 4, 5, 6, 7]\n",
    "\n",
    "common_elements = lambda lst1, lst2: list(filter(lambda x: x in lst2, lst1))\n",
    "\n",
    "result = common_elements(list1, list2)\n",
    "print(result)  # Output: [3, 4, 5]\n"
   ]
  },
  {
   "cell_type": "markdown",
   "id": "792f82f3",
   "metadata": {},
   "source": [
    "# 11. Write a recursive function to calculate the factorial of a given positive integer."
   ]
  },
  {
   "cell_type": "code",
   "execution_count": 7,
   "id": "a96e43b5",
   "metadata": {},
   "outputs": [
    {
     "name": "stdout",
     "output_type": "stream",
     "text": [
      "The factorial of 5 is 120\n"
     ]
    }
   ],
   "source": [
    "def factorial(n):\n",
    "    if n == 0 or n == 1:\n",
    "        return 1\n",
    "    else:\n",
    "        return n * factorial(n - 1)\n",
    "\n",
    "number = 5\n",
    "result = factorial(number)\n",
    "print(f\"The factorial of {number} is {result}\")  # Output: The factorial of 5 is 120\n",
    "\n"
   ]
  },
  {
   "cell_type": "markdown",
   "id": "5f672837",
   "metadata": {},
   "source": [
    "# 12. Implement a recursive function to compute the nth Fibonacci number."
   ]
  },
  {
   "cell_type": "code",
   "execution_count": 8,
   "id": "c3cbc9a8",
   "metadata": {},
   "outputs": [
    {
     "name": "stdout",
     "output_type": "stream",
     "text": [
      "The 6th Fibonacci number is 8\n"
     ]
    }
   ],
   "source": [
    "def fibonacci(n):\n",
    "    if n <= 0:\n",
    "        return 0\n",
    "    elif n == 1:\n",
    "        return 1\n",
    "    else:\n",
    "        return fibonacci(n - 1) + fibonacci(n - 2)\n",
    "\n",
    "n = 6\n",
    "result = fibonacci(n)\n",
    "print(f\"The {n}th Fibonacci number is {result}\")  # Output: The 6th Fibonacci number is 8\n"
   ]
  },
  {
   "cell_type": "markdown",
   "id": "67a642e7",
   "metadata": {},
   "source": [
    "# 13. Create a recursive function to find the sum of all the elements in a given list."
   ]
  },
  {
   "cell_type": "code",
   "execution_count": 9,
   "id": "8538e943",
   "metadata": {},
   "outputs": [
    {
     "name": "stdout",
     "output_type": "stream",
     "text": [
      "The sum of the elements in the list is 15\n"
     ]
    }
   ],
   "source": [
    "def recursive_sum(lst):\n",
    "    if not lst:\n",
    "        return 0\n",
    "    else:\n",
    "        return lst[0] + recursive_sum(lst[1:])\n",
    "\n",
    "numbers = [1, 2, 3, 4, 5]\n",
    "result = recursive_sum(numbers)\n",
    "print(f\"The sum of the elements in the list is {result}\")  # Output: The sum of the elements in the list is 15\n",
    "\n"
   ]
  },
  {
   "cell_type": "markdown",
   "id": "ff35fc9b",
   "metadata": {},
   "source": [
    "# 14. Write a recursive function to determine whether a given string is a palindrome.\n"
   ]
  },
  {
   "cell_type": "code",
   "execution_count": 10,
   "id": "1a25fd40",
   "metadata": {},
   "outputs": [
    {
     "name": "stdout",
     "output_type": "stream",
     "text": [
      "racecar is a palindrome.\n"
     ]
    }
   ],
   "source": [
    "def is_palindrome(s):\n",
    "    s = s.lower().replace(\" \", \"\")  # Convert to lowercase and remove spaces\n",
    "    if len(s) <= 1:\n",
    "        return True\n",
    "    elif s[0] != s[-1]:\n",
    "        return False\n",
    "    else:\n",
    "        return is_palindrome(s[1:-1])\n",
    "\n",
    "string = \"racecar\"\n",
    "if is_palindrome(string):\n",
    "    print(f\"{string} is a palindrome.\")\n",
    "else:\n",
    "    print(f\"{string} is not a palindrome.\")\n"
   ]
  },
  {
   "cell_type": "markdown",
   "id": "4bc8caa3",
   "metadata": {},
   "source": [
    "# 15. Implement a recursive function to find the greatest common divisor (GCD) of two positive integers."
   ]
  },
  {
   "cell_type": "code",
   "execution_count": 11,
   "id": "5dbf0ca6",
   "metadata": {},
   "outputs": [
    {
     "name": "stdout",
     "output_type": "stream",
     "text": [
      "The GCD of 48 and 18 is 6\n"
     ]
    }
   ],
   "source": [
    "def gcd(a, b):\n",
    "    if b == 0:\n",
    "        return a\n",
    "    else:\n",
    "        return gcd(b, a % b)\n",
    "\n",
    "num1 = 48\n",
    "num2 = 18\n",
    "result = gcd(num1, num2)\n",
    "print(f\"The GCD of {num1} and {num2} is {result}\")  # Output: The GCD of 48 and 18 is 6\n"
   ]
  },
  {
   "cell_type": "code",
   "execution_count": null,
   "id": "eaafcd74",
   "metadata": {},
   "outputs": [],
   "source": []
  }
 ],
 "metadata": {
  "kernelspec": {
   "display_name": "Python 3 (ipykernel)",
   "language": "python",
   "name": "python3"
  },
  "language_info": {
   "codemirror_mode": {
    "name": "ipython",
    "version": 3
   },
   "file_extension": ".py",
   "mimetype": "text/x-python",
   "name": "python",
   "nbconvert_exporter": "python",
   "pygments_lexer": "ipython3",
   "version": "3.10.9"
  }
 },
 "nbformat": 4,
 "nbformat_minor": 5
}
