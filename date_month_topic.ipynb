{
 "cells": [
  {
   "cell_type": "markdown",
   "id": "ec319325",
   "metadata": {},
   "source": [
    "1. Explain what inheritance is in object-oriented programming and why it is used.\n",
    "2. Discuss the concept of single inheritance and multiple inheritance, highlighting their\n",
    "differences and advantages.\n",
    "3. Explain the terms \"base class\" and \"derived class\" in the context of inheritance.\n",
    "4. What is the significance of the \"protected\" access modifier in inheritance? How does\n",
    "it differ from \"private\" and \"public\" modifiers?\n",
    "5. What is the purpose of the \"super\" keyword in inheritance? Provide an example.\n",
    "6. Create a base class called \"Vehicle\" with attributes like \"make\", \"model\", and \"year\".\n",
    "Then, create a derived class called \"Car\" that inherits from \"Vehicle\" and adds an\n",
    "attribute called \"fuel_type\". Implement approp\n",
    "\n",
    "riate methods in both classes.\n",
    "7. Create a base class called \"Employee\" with attributes like \"name\" and \"salary.\"\n",
    "Derive two classes, \"Manager\" and \"Developer,\" from \"Employee.\" Add an additional\n",
    "attribute called \"department\" for the \"Manager\" class and \"programming_language\"\n",
    "for the \"Developer\" class.\n",
    "8. Design a base class called \"Shape\" with attributes like \"colour\" and \"border_width.\"\n",
    "Create derived classes, \"Rectangle\" and \"Circle,\" that inherit from \"Shape\" and add\n",
    "specific attributes like \"length\" and \"width\" for the \"Rectangle\" class and \"radius\" for\n",
    "the \"Circle\" class.\n",
    "9. Create a base class called \"Device\" with attributes like \"brand\" and \"model.\" Derive\n",
    "two classes, \"Phone\" and \"Tablet,\" from \"Device.\" Add specific attributes like\n",
    "\"screen_size\" for the \"Phone\" class and \"battery_capacity\" for the \"Tablet\" class.\n",
    "10. Create a base class called \"BankAccount\" with attributes like \"account_number\" and\n",
    "\"balance.\" Derive two classes, \"SavingsAccount\" and \"CheckingAccount,\" from\n",
    "\"BankAccount.\" Add specific methods like \"calculate_interest\" for the\n",
    "\"SavingsAccount\" class and \"deduct_fees\" for the \"CheckingAccount\" class.\n",
    "\n"
   ]
  },
  {
   "cell_type": "markdown",
   "id": "8cf2e9e6",
   "metadata": {},
   "source": [
    "# 1. Explain what inheritance is in object-oriented programming and why it is used."
   ]
  },
  {
   "cell_type": "markdown",
   "id": "667dd361",
   "metadata": {},
   "source": [
    "In object-oriented programming (OOP), inheritance is a mechanism where a class can inherit attributes and methods from another class. It's used for code reuse and building specialized classes. A base class (superclass) defines common features, and derived classes (subclasses) inherit these while adding unique attributes and methods. In Python, class Derived(Base) expresses inheritance. It promotes modularity and polymorphism, enhancing flexibility and reducing redundancy in code."
   ]
  },
  {
   "cell_type": "markdown",
   "id": "98ba64ca",
   "metadata": {},
   "source": [
    "# 2. Discuss the concept of single inheritance and multiple inheritance, highlighting their differences and advantages.\n"
   ]
  },
  {
   "cell_type": "markdown",
   "id": "47a1500e",
   "metadata": {},
   "source": [
    "Single Inheritance:\n",
    "Single inheritance refers to a class inheriting attributes and methods from only one base class (superclass). In other words, a derived class extends a single parent class. This simplifies the class hierarchy, making it straightforward to understand and maintain. It encourages a clear and linear structure in which each class inherits from one ancestor.\n",
    "\n",
    "Advantages of Single Inheritance:\n",
    "\n",
    "Simplicity: Easier to comprehend and troubleshoot due to a straightforward hierarchy.\n",
    "Reduced Complexity: Limits conflicts and ambiguity in method resolution order.\n",
    "Code Reuse: Encourages modular design and helps avoid excessive dependencies.\n",
    "Multiple Inheritance:\n",
    "Multiple inheritance involves a class inheriting from more than one base class. This allows a derived class to inherit attributes and methods from multiple sources. While it enhances code reuse and flexibility, it can lead to complications such as the \"diamond problem\" – a conflict when two base classes share a common ancestor.\n",
    "\n",
    "Advantages of Multiple Inheritance:\n",
    "\n",
    "Code Reuse: Enables the incorporation of functionalities from multiple sources.\n",
    "Flexibility: Allows creating classes with diverse features by combining traits from different classes.\n",
    "Polymorphism: Supports creating classes with versatile behaviors.\n",
    "Differences:\n",
    "\n",
    "Single Inheritance: One base class is inherited, leading to a linear class hierarchy.\n",
    "Multiple Inheritance: Multiple base classes are inherited, forming a more complex hierarchy.\n",
    "Both types offer distinct benefits, and the choice depends on the specific requirements of the project. Single inheritance simplifies the structure, while multiple inheritance provides greater flexibility at the cost of potential complications."
   ]
  },
  {
   "cell_type": "markdown",
   "id": "16db60a0",
   "metadata": {},
   "source": [
    "# 3. Explain the terms \"base class\" and \"derived class\" in the context of inheritance.\n"
   ]
  },
  {
   "cell_type": "markdown",
   "id": "0ec14516",
   "metadata": {},
   "source": [
    "class Vehicle:  # Base class\n",
    "    def __init__(self, brand):\n",
    "        self.brand = brand\n",
    "\n",
    "    def start(self):\n",
    "        print(f\"{self.brand} is starting.\")\n",
    "\n",
    "class Car(Vehicle):  # Derived class\n",
    "    def drive(self):\n",
    "        print(f\"{self.brand} is being driven.\")\n",
    "\n",
    "class Bicycle(Vehicle):  # Derived class\n",
    "    def pedal(self):\n",
    "        print(f\"{self.brand} is being pedaled.\")\n",
    "\n",
    "my_car = Car(\"Toyota\")  # Creating instance of derived class\n",
    "my_car.start()          # Inheriting method from base class\n",
    "my_car.drive()          # Calling method of derived class\n",
    "\n",
    "my_bicycle = Bicycle(\"Trek\")  # Creating instance of another derived class\n",
    "my_bicycle.start()            # Inheriting method from base class\n",
    "my_bicycle.pedal()            # Calling method of derived class\n"
   ]
  },
  {
   "cell_type": "markdown",
   "id": "fb61a0ce",
   "metadata": {},
   "source": [
    "# 4. What is the significance of the \"protected\" access modifier in inheritance? How does it differ from \"private\" and \"public\" modifiers?\n"
   ]
  },
  {
   "cell_type": "markdown",
   "id": "7f73e9ae",
   "metadata": {},
   "source": [
    "Public (No Modifier):\n",
    "\n",
    "Attributes and methods with no access modifier are considered public and can be accessed from anywhere, both within and outside the class.\n",
    "Protected (Single Underscore Prefix):\n",
    "\n",
    "Attributes and methods with a single underscore prefix (e.g., _protected_attribute) are considered protected.\n",
    "They indicate that the attribute or method should not be accessed directly from outside the class, but they are accessible.\n",
    "It's a convention to signal to developers that the attribute is part of the internal implementation and may change.\n",
    "Private (Double Underscore Prefix):\n",
    "\n",
    "Attributes and methods with a double underscore prefix (e.g., __private_attribute) are considered private.\n",
    "They are name-mangled to prevent accidental overriding in subclasses.\n",
    "Private attributes and methods are not intended to be accessed directly from outside the class.\n",
    "While these access modifiers are used to communicate the intended visibility level, Python doesn't provide strict enforcement like languages with access control keywords. Developers can still access protected and private attributes and methods, but it's considered a best practice to follow these conventions for code readability and maintainability.\n",
    "\n",
    "Example:\n",
    "\n",
    "python\n",
    "Copy code\n",
    "class MyClass:\n",
    "    def __init__(self):\n",
    "        self.public_var = \"Public\"\n",
    "        self._protected_var = \"Protected\"\n",
    "        self.__private_var = \"Private\"\n",
    "\n",
    "    def public_method(self):\n",
    "        print(\"Public method\")\n",
    "\n",
    "    def _protected_method(self):\n",
    "        print(\"Protected method\")\n",
    "\n",
    "    def __private_method(self):\n",
    "        print(\"Private method\")\n",
    "\n",
    "obj = MyClass()\n",
    "\n",
    "print(obj.public_var)          # Accessing public attribute\n",
    "print(obj._protected_var)      # Accessing protected attribute (convention)\n",
    "# print(obj.__private_var)     # This will cause an AttributeError\n",
    "\n",
    "obj.public_method()            # Calling public method\n",
    "obj._protected_method()        # Calling protected method (convention)\n",
    "# obj.__private_method()       # This will cause an AttributeError\n",
    "In this example, the access modifiers are indicated by the naming conventions of the attributes and methods. Although protected and private attributes/methods are still accessible, adhering to the conventions helps signal their\n",
    "\n",
    "\n"
   ]
  },
  {
   "cell_type": "markdown",
   "id": "95e9ae3a",
   "metadata": {},
   "source": [
    "# 5. What is the purpose of the \"super\" keyword in inheritance? Provide an example.\n",
    "\n"
   ]
  },
  {
   "cell_type": "code",
   "execution_count": null,
   "id": "04d1b67f",
   "metadata": {},
   "outputs": [],
   "source": []
  },
  {
   "cell_type": "markdown",
   "id": "55fe11ea",
   "metadata": {},
   "source": [
    "# 6. Create a base class called \"Vehicle\" with attributes like \"make\", \"model\", and \"year\".Then, create a derived class called \"Car\" that inherits from \"Vehicle\" and adds anattribute called \"fuel_type\". Implement appropriate methods in both classes.\n"
   ]
  },
  {
   "cell_type": "code",
   "execution_count": 1,
   "id": "7f71a1e3",
   "metadata": {},
   "outputs": [
    {
     "name": "stdout",
     "output_type": "stream",
     "text": [
      "Buddy makes a sound.\n",
      "Buddy barks.\n"
     ]
    }
   ],
   "source": [
    "class Animal:\n",
    "    def __init__(self, name):\n",
    "        self.name = name\n",
    "\n",
    "    def speak(self):\n",
    "        print(f\"{self.name} makes a sound.\")\n",
    "\n",
    "class Dog(Animal):\n",
    "    def __init__(self, name, breed):\n",
    "        super().__init__(name)  # Calling superclass constructor\n",
    "        self.breed = breed\n",
    "\n",
    "    def speak(self):\n",
    "        super().speak()  # Calling superclass method\n",
    "        print(f\"{self.name} barks.\")\n",
    "\n",
    "my_dog = Dog(\"Buddy\", \"Golden Retriever\")\n",
    "my_dog.speak()\n"
   ]
  },
  {
   "cell_type": "markdown",
   "id": "ed77cd1e",
   "metadata": {},
   "source": [
    "# 7. Create a base class called \"Employee\" with attributes like \"name\" and \"salary.\"\n",
    "Derive two classes, \"Manager\" and \"Developer,\" from \"Employee.\" Add an additional\n",
    "attribute called \"department\" for the \"Manager\" class and \"programming_language\"\n",
    "for the \"Developer\" class.\n"
   ]
  },
  {
   "cell_type": "code",
   "execution_count": 2,
   "id": "039c2dd2",
   "metadata": {},
   "outputs": [
    {
     "name": "stdout",
     "output_type": "stream",
     "text": [
      "Manager: Alice, Salary: 60000, Department: Sales\n",
      "Developer: Bob, Salary: 55000, Language: Python\n"
     ]
    }
   ],
   "source": [
    "class Employee:\n",
    "    def __init__(self, name, salary):\n",
    "        self.name = name\n",
    "        self.salary = salary\n",
    "\n",
    "class Manager(Employee):\n",
    "    def __init__(self, name, salary, department):\n",
    "        super().__init__(name, salary)\n",
    "        self.department = department\n",
    "\n",
    "class Developer(Employee):\n",
    "    def __init__(self, name, salary, programming_language):\n",
    "        super().__init__(name, salary)\n",
    "        self.programming_language = programming_language\n",
    "\n",
    "# Creating instances of derived classes\n",
    "manager = Manager(\"Alice\", 60000, \"Sales\")\n",
    "developer = Developer(\"Bob\", 55000, \"Python\")\n",
    "\n",
    "# Accessing attributes\n",
    "print(f\"Manager: {manager.name}, Salary: {manager.salary}, Department: {manager.department}\")\n",
    "print(f\"Developer: {developer.name}, Salary: {developer.salary}, Language: {developer.programming_language}\")\n"
   ]
  },
  {
   "cell_type": "markdown",
   "id": "b88f0267",
   "metadata": {},
   "source": [
    "# 8. Design a base class called \"Shape\" with attributes like \"colour\" and \"border_width.\"\n",
    "Create derived classes, \"Rectangle\" and \"Circle,\" that inherit from \"Shape\" and add\n",
    "specific attributes like \"length\" and \"width\" for the \"Rectangle\" class and \"radius\" for\n",
    "the \"Circle\" class.\n"
   ]
  },
  {
   "cell_type": "code",
   "execution_count": 3,
   "id": "6da81e64",
   "metadata": {},
   "outputs": [
    {
     "name": "stdout",
     "output_type": "stream",
     "text": [
      "Rectangle: Colour: Red, Border Width: 2, Length: 10, Width: 5\n",
      "Circle: Colour: Blue, Border Width: 1, Radius: 7\n"
     ]
    }
   ],
   "source": [
    "class Shape:\n",
    "    def __init__(self, colour, border_width):\n",
    "        self.colour = colour\n",
    "        self.border_width = border_width\n",
    "\n",
    "class Rectangle(Shape):\n",
    "    def __init__(self, colour, border_width, length, width):\n",
    "        super().__init__(colour, border_width)\n",
    "        self.length = length\n",
    "        self.width = width\n",
    "\n",
    "class Circle(Shape):\n",
    "    def __init__(self, colour, border_width, radius):\n",
    "        super().__init__(colour, border_width)\n",
    "        self.radius = radius\n",
    "\n",
    "# Creating instances of derived classes\n",
    "rectangle = Rectangle(\"Red\", 2, 10, 5)\n",
    "circle = Circle(\"Blue\", 1, 7)\n",
    "\n",
    "# Accessing attributes\n",
    "print(f\"Rectangle: Colour: {rectangle.colour}, Border Width: {rectangle.border_width}, Length: {rectangle.length}, Width: {rectangle.width}\")\n",
    "print(f\"Circle: Colour: {circle.colour}, Border Width: {circle.border_width}, Radius: {circle.radius}\")\n"
   ]
  },
  {
   "cell_type": "markdown",
   "id": "1038ecb5",
   "metadata": {},
   "source": [
    "# 9. Create a base class called \"Device\" with attributes like \"brand\" and \"model.\" Derive\n",
    "two classes, \"Phone\" and \"Tablet,\" from \"Device.\" Add specific attributes like\n",
    "\"screen_size\" for the \"Phone\" class and \"battery_capacity\" for the \"Tablet\" class.\n"
   ]
  },
  {
   "cell_type": "code",
   "execution_count": 4,
   "id": "e062a243",
   "metadata": {},
   "outputs": [
    {
     "name": "stdout",
     "output_type": "stream",
     "text": [
      "Phone: Brand: Apple, Model: iPhone 12, Screen Size: 6.1 inches\n",
      "Tablet: Brand: Samsung, Model: Galaxy Tab S7, Battery Capacity: 8000 mAh\n"
     ]
    }
   ],
   "source": [
    "class Device:\n",
    "    def __init__(self, brand, model):\n",
    "        self.brand = brand\n",
    "        self.model = model\n",
    "\n",
    "class Phone(Device):\n",
    "    def __init__(self, brand, model, screen_size):\n",
    "        super().__init__(brand, model)\n",
    "        self.screen_size = screen_size\n",
    "\n",
    "class Tablet(Device):\n",
    "    def __init__(self, brand, model, battery_capacity):\n",
    "        super().__init__(brand, model)\n",
    "        self.battery_capacity = battery_capacity\n",
    "\n",
    "# Creating instances of derived classes\n",
    "phone = Phone(\"Apple\", \"iPhone 12\", \"6.1 inches\")\n",
    "tablet = Tablet(\"Samsung\", \"Galaxy Tab S7\", \"8000 mAh\")\n",
    "\n",
    "# Accessing attributes\n",
    "print(f\"Phone: Brand: {phone.brand}, Model: {phone.model}, Screen Size: {phone.screen_size}\")\n",
    "print(f\"Tablet: Brand: {tablet.brand}, Model: {tablet.model}, Battery Capacity: {tablet.battery_capacity}\")\n"
   ]
  },
  {
   "cell_type": "markdown",
   "id": "2e12b3b0",
   "metadata": {},
   "source": [
    "# 10. Create a base class called \"BankAccount\" with attributes like \"account_number\" and\n",
    "\"balance.\" Derive two classes, \"SavingsAccount\" and \"CheckingAccount,\" from\n",
    "\"BankAccount.\" Add specific methods like \"calculate_interest\" for the\n",
    "\"SavingsAccount\" class and \"deduct_fees\" for the \"CheckingAccount\" class.\n"
   ]
  },
  {
   "cell_type": "code",
   "execution_count": null,
   "id": "ed308848",
   "metadata": {},
   "outputs": [],
   "source": []
  }
 ],
 "metadata": {
  "kernelspec": {
   "display_name": "Python 3 (ipykernel)",
   "language": "python",
   "name": "python3"
  },
  "language_info": {
   "codemirror_mode": {
    "name": "ipython",
    "version": 3
   },
   "file_extension": ".py",
   "mimetype": "text/x-python",
   "name": "python",
   "nbconvert_exporter": "python",
   "pygments_lexer": "ipython3",
   "version": "3.10.9"
  }
 },
 "nbformat": 4,
 "nbformat_minor": 5
}
